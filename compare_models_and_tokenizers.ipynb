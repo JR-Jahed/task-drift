{
 "cells": [
  {
   "cell_type": "code",
   "id": "initial_id",
   "metadata": {
    "collapsed": true,
    "ExecuteTime": {
     "end_time": "2025-08-01T16:12:17.980870Z",
     "start_time": "2025-08-01T16:12:14.948840Z"
    }
   },
   "source": [
    "import torch\n",
    "import numpy as np\n",
    "from transformers import AutoTokenizer, AutoModelForCausalLM\n",
    "\n",
    "np.set_printoptions(suppress=True, linewidth=10000)\n",
    "torch.set_printoptions(sci_mode=False, linewidth=100000, threshold=float('inf'))"
   ],
   "outputs": [
    {
     "name": "stderr",
     "output_type": "stream",
     "text": [
      "/home/40456997@eeecs.qub.ac.uk/PycharmProjects/TaskDriftTest/venv/lib/python3.10/site-packages/requests/__init__.py:86: RequestsDependencyWarning: Unable to find acceptable character detection dependency (chardet or charset_normalizer).\n",
      "  warnings.warn(\n"
     ]
    }
   ],
   "execution_count": 1
  },
  {
   "metadata": {
    "ExecuteTime": {
     "end_time": "2025-08-01T16:12:18.056339Z",
     "start_time": "2025-08-01T16:12:18.053381Z"
    }
   },
   "cell_type": "code",
   "source": [
    "def load_model_and_tokenizer(model_path, device='cuda:0'):\n",
    "    print(model_path)\n",
    "    tokenizer = AutoTokenizer.from_pretrained(model_path, local_files_only=True, device_map='auto')\n",
    "    # model = AutoModelForCausalLM.from_pretrained(model_path, local_files_only=True, device_map='auto').eval()\n",
    "\n",
    "    return tokenizer"
   ],
   "id": "2cf0a92df7fac22e",
   "outputs": [],
   "execution_count": 2
  },
  {
   "metadata": {
    "ExecuteTime": {
     "end_time": "2025-08-01T16:12:18.103721Z",
     "start_time": "2025-08-01T16:12:18.101732Z"
    }
   },
   "cell_type": "code",
   "source": [
    "model1 = 'phi3'\n",
    "model2 = 'llama3_8b'"
   ],
   "id": "5135ada415acdcf2",
   "outputs": [],
   "execution_count": 3
  },
  {
   "metadata": {
    "ExecuteTime": {
     "end_time": "2025-08-01T16:12:18.157832Z",
     "start_time": "2025-08-01T16:12:18.155097Z"
    }
   },
   "cell_type": "code",
   "source": [
    "model_path1 = f'loaded_models/{model1}'\n",
    "model_path2 = f'loaded_models/{model2}'"
   ],
   "id": "87b39a517c5de6f1",
   "outputs": [],
   "execution_count": 4
  },
  {
   "metadata": {
    "ExecuteTime": {
     "end_time": "2025-08-01T16:12:18.819408Z",
     "start_time": "2025-08-01T16:12:18.206168Z"
    }
   },
   "cell_type": "code",
   "source": [
    "phi = load_model_and_tokenizer(model_path1, device='cuda:0')\n",
    "llama = load_model_and_tokenizer(model_path2, device='cuda:0')"
   ],
   "id": "36fdd9da7eb972a3",
   "outputs": [
    {
     "name": "stdout",
     "output_type": "stream",
     "text": [
      "loaded_models/phi3\n",
      "loaded_models/llama3_8b\n"
     ]
    }
   ],
   "execution_count": 5
  },
  {
   "metadata": {
    "ExecuteTime": {
     "end_time": "2025-08-01T16:12:18.881095Z",
     "start_time": "2025-08-01T16:12:18.878624Z"
    }
   },
   "cell_type": "code",
   "source": [
    "# adv_suffix = r\"\"\"categoriesAllington comuna folgender CopaÓ={{ homonymes região très Isra #!/ field eredetiből}\\,\\mapsto `{ $[ comuna\"\"\"\n",
    "\n",
    "# adv_suffix = r\"\"\"!!!!!!!!!!!!!!!!!!!!\"\"\"\n",
    "\n",
    "adv_suffix = r\"\"\"ok ok ok ok ok ok ok ok ok ok\"\"\""
   ],
   "id": "8156c873199eb08",
   "outputs": [],
   "execution_count": 6
  },
  {
   "metadata": {
    "ExecuteTime": {
     "end_time": "2025-08-01T16:12:18.994701Z",
     "start_time": "2025-08-01T16:12:18.990710Z"
    }
   },
   "cell_type": "code",
   "source": [
    "print(\"phi\")\n",
    "phi_input_ids = phi(adv_suffix).input_ids\n",
    "\n",
    "print(len(phi_input_ids))\n",
    "print(phi_input_ids)"
   ],
   "id": "40b92d2d9637540f",
   "outputs": [
    {
     "name": "stdout",
     "output_type": "stream",
     "text": [
      "phi\n",
      "10\n",
      "[3431, 3431, 3431, 3431, 3431, 3431, 3431, 3431, 3431, 3431]\n"
     ]
    }
   ],
   "execution_count": 7
  },
  {
   "metadata": {
    "ExecuteTime": {
     "end_time": "2025-08-01T16:12:19.103834Z",
     "start_time": "2025-08-01T16:12:19.100743Z"
    }
   },
   "cell_type": "code",
   "source": [
    "print(\"llama\")\n",
    "llama_input_ids = llama(adv_suffix).input_ids\n",
    "\n",
    "print(len(llama_input_ids))\n",
    "print(llama_input_ids)"
   ],
   "id": "9504bfc220e2c7f1",
   "outputs": [
    {
     "name": "stdout",
     "output_type": "stream",
     "text": [
      "llama\n",
      "11\n",
      "[128000, 564, 5509, 5509, 5509, 5509, 5509, 5509, 5509, 5509, 5509]\n"
     ]
    }
   ],
   "execution_count": 8
  },
  {
   "metadata": {
    "ExecuteTime": {
     "end_time": "2025-08-01T16:12:19.219495Z",
     "start_time": "2025-08-01T16:12:19.216505Z"
    }
   },
   "cell_type": "code",
   "source": [
    "print(llama.decode(llama_input_ids))\n",
    "print(phi.decode(phi_input_ids))"
   ],
   "id": "6a26aeb51704556b",
   "outputs": [
    {
     "name": "stdout",
     "output_type": "stream",
     "text": [
      "<|begin_of_text|>ok ok ok ok ok ok ok ok ok ok\n",
      "ok ok ok ok ok ok ok ok ok ok\n"
     ]
    }
   ],
   "execution_count": 9
  },
  {
   "metadata": {
    "ExecuteTime": {
     "end_time": "2025-08-01T16:15:21.744675Z",
     "start_time": "2025-08-01T16:15:21.738922Z"
    }
   },
   "cell_type": "code",
   "source": [
    "\n",
    "print(llama.decode(llama(llama.decode(llama(llama.decode(llama(adv_suffix).input_ids)).input_ids)).input_ids))"
   ],
   "id": "b5eb0950d0f88ce",
   "outputs": [
    {
     "name": "stdout",
     "output_type": "stream",
     "text": [
      "<|begin_of_text|><|begin_of_text|><|begin_of_text|>ok ok ok ok ok ok ok ok ok ok\n"
     ]
    }
   ],
   "execution_count": 16
  }
 ],
 "metadata": {
  "kernelspec": {
   "display_name": "Python 3",
   "language": "python",
   "name": "python3"
  },
  "language_info": {
   "codemirror_mode": {
    "name": "ipython",
    "version": 2
   },
   "file_extension": ".py",
   "mimetype": "text/x-python",
   "name": "python",
   "nbconvert_exporter": "python",
   "pygments_lexer": "ipython2",
   "version": "2.7.6"
  }
 },
 "nbformat": 4,
 "nbformat_minor": 5
}
