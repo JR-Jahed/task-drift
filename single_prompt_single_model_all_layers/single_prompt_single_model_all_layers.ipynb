{
 "metadata": {
  "kernelspec": {
   "language": "python",
   "display_name": "Python 3",
   "name": "python3"
  },
  "language_info": {
   "name": "python",
   "version": "3.11.13",
   "mimetype": "text/x-python",
   "codemirror_mode": {
    "name": "ipython",
    "version": 3
   },
   "pygments_lexer": "ipython3",
   "nbconvert_exporter": "python",
   "file_extension": ".py"
  },
  "kaggle": {
   "accelerator": "nvidiaTeslaT4",
   "dataSources": [
    {
     "sourceId": 12584327,
     "sourceType": "datasetVersion",
     "datasetId": 7947981
    },
    {
     "sourceId": 12584663,
     "sourceType": "datasetVersion",
     "datasetId": 7948205
    }
   ],
   "dockerImageVersionId": 31090,
   "isInternetEnabled": true,
   "language": "python",
   "sourceType": "notebook",
   "isGpuEnabled": true
  }
 },
 "nbformat_minor": 4,
 "nbformat": 4,
 "cells": [
  {
   "metadata": {},
   "cell_type": "markdown",
   "source": "### Let's try to find a suffix that works on a single prompt in attacking all the classifiers of Phi 3 model"
  },
  {
   "cell_type": "code",
   "source": [
    "import torch\n",
    "import torch.nn as nn\n",
    "import numpy as np\n",
    "import time\n",
    "import pickle\n",
    "from custom_model import CustomModel\n",
    "from opt_utils import get_nonascii_toks, token_gradients, sample_control, get_filtered_cands, get_logits, load_model_and_tokenizer, get_prompt, get_primary_activation\n",
    "from suffix_manager import SuffixManager\n",
    "\n",
    "np.set_printoptions(suppress=True, linewidth=10000)\n",
    "torch.set_printoptions(sci_mode=False, linewidth=100000, threshold=float('inf'))"
   ],
   "metadata": {
    "_uuid": "8f2839f25d086af736a60e9eeb907d3b93b6e0e5",
    "_cell_guid": "b1076dfc-b9ad-4769-8c92-a6c4dae69d19",
    "trusted": true,
    "execution": {
     "iopub.status.busy": "2025-07-27T08:11:24.178870Z",
     "iopub.execute_input": "2025-07-27T08:11:24.179056Z",
     "iopub.status.idle": "2025-07-27T08:11:38.379597Z",
     "shell.execute_reply.started": "2025-07-27T08:11:24.179032Z",
     "shell.execute_reply": "2025-07-27T08:11:38.378978Z"
    }
   },
   "outputs": [],
   "execution_count": 1
  },
  {
   "metadata": {},
   "cell_type": "code",
   "outputs": [],
   "execution_count": null,
   "source": "model_path = 'loaded_models/phi3'"
  },
  {
   "cell_type": "code",
   "source": [
    "adv_string_init = \"! ! ! ! ! ! ! ! ! ! ! ! ! ! ! ! ! ! ! !\"\n",
    "model_id = \"microsoft/Phi-3-mini-4k-instruct\"\n",
    "\n",
    "prompt_index = 0\n",
    "\n",
    "num_steps = 100\n",
    "topk = 64\n",
    "batch_size = 64\n",
    "allow_non_ascii = False  # you can set this to True to use unicode tokens"
   ],
   "metadata": {
    "trusted": true,
    "execution": {
     "iopub.status.busy": "2025-07-27T08:11:38.380334Z",
     "iopub.execute_input": "2025-07-27T08:11:38.380670Z",
     "iopub.status.idle": "2025-07-27T08:11:38.384442Z",
     "shell.execute_reply.started": "2025-07-27T08:11:38.380651Z",
     "shell.execute_reply": "2025-07-27T08:11:38.383853Z"
    }
   },
   "outputs": [],
   "execution_count": 2
  },
  {
   "metadata": {},
   "cell_type": "code",
   "outputs": [],
   "execution_count": null,
   "source": "torch.cuda.empty_cache()"
  },
  {
   "metadata": {},
   "cell_type": "code",
   "outputs": [],
   "execution_count": null,
   "source": [
    "# Get the text from the test dataset\n",
    "text = get_prompt(prompt_index)"
   ]
  },
  {
   "cell_type": "code",
   "source": "model, tokenizer = load_model_and_tokenizer(model_path)",
   "metadata": {
    "trusted": true,
    "execution": {
     "iopub.status.busy": "2025-07-27T08:11:38.386062Z",
     "iopub.execute_input": "2025-07-27T08:11:38.386350Z",
     "iopub.status.idle": "2025-07-27T08:11:38.412613Z",
     "shell.execute_reply.started": "2025-07-27T08:11:38.386321Z",
     "shell.execute_reply": "2025-07-27T08:11:38.411872Z"
    }
   },
   "outputs": [],
   "execution_count": 3
  },
  {
   "cell_type": "code",
   "source": "suffix_manager = SuffixManager(tokenizer, text[0], adv_string_init)",
   "metadata": {
    "trusted": true,
    "execution": {
     "iopub.status.busy": "2025-07-27T08:13:12.635335Z",
     "iopub.execute_input": "2025-07-27T08:13:12.635878Z",
     "iopub.status.idle": "2025-07-27T08:13:12.639594Z",
     "shell.execute_reply.started": "2025-07-27T08:13:12.635858Z",
     "shell.execute_reply": "2025-07-27T08:13:12.638919Z"
    }
   },
   "outputs": [],
   "execution_count": 7
  },
  {
   "cell_type": "code",
   "source": [
    "linear_models = {}\n",
    "\n",
    "for i in [0, 7, 15, 23, 31]:\n",
    "    linear_models[i] = pickle.load(open(f'./Task Drift/trained_linear_probes_microsoft/phi3/{i}/model.pickle', 'rb'))\n",
    "\n",
    "custom_model = CustomModel(model, linear_models)\n",
    "device = custom_model.base_model.get_input_embeddings().weight.device"
   ],
   "metadata": {
    "trusted": true,
    "execution": {
     "iopub.status.busy": "2025-07-27T08:13:21.920424Z",
     "iopub.execute_input": "2025-07-27T08:13:21.920780Z",
     "iopub.status.idle": "2025-07-27T08:13:23.830743Z",
     "shell.execute_reply.started": "2025-07-27T08:13:21.920751Z",
     "shell.execute_reply": "2025-07-27T08:13:23.829893Z"
    }
   },
   "outputs": [
    {
     "name": "stderr",
     "text": "/usr/local/lib/python3.11/dist-packages/sklearn/base.py:318: UserWarning: Trying to unpickle estimator LogisticRegression from version 1.4.2 when using version 1.2.2. This might lead to breaking code or invalid results. Use at your own risk. For more info please refer to:\nhttps://scikit-learn.org/stable/model_persistence.html#security-maintainability-limitations\n  warnings.warn(\n",
     "output_type": "stream"
    }
   ],
   "execution_count": 10
  },
  {
   "cell_type": "code",
   "source": [
    "primary_activations = {\n",
    "    0: get_primary_activation(index=prompt_index, layer=0).to(device),\n",
    "    7: get_primary_activation(index=prompt_index, layer=7).to(device),\n",
    "    15: get_primary_activation(index=prompt_index, layer=15).to(device),\n",
    "    23: get_primary_activation(index=prompt_index, layer=23).to(device),\n",
    "    31: get_primary_activation(index=prompt_index, layer=31).to(device)\n",
    "}"
   ],
   "metadata": {
    "trusted": true,
    "execution": {
     "iopub.status.busy": "2025-07-27T08:13:23.853520Z",
     "iopub.execute_input": "2025-07-27T08:13:23.853777Z",
     "iopub.status.idle": "2025-07-27T08:13:23.858490Z",
     "shell.execute_reply.started": "2025-07-27T08:13:23.853759Z",
     "shell.execute_reply": "2025-07-27T08:13:23.857683Z"
    }
   },
   "outputs": [],
   "execution_count": 12
  },
  {
   "cell_type": "code",
   "source": "target = torch.tensor([0], dtype=torch.float32)\ntarget = target.to(device)",
   "metadata": {
    "trusted": true,
    "execution": {
     "iopub.status.busy": "2025-07-27T08:13:23.859271Z",
     "iopub.execute_input": "2025-07-27T08:13:23.859537Z",
     "iopub.status.idle": "2025-07-27T08:13:23.879890Z",
     "shell.execute_reply.started": "2025-07-27T08:13:23.859519Z",
     "shell.execute_reply": "2025-07-27T08:13:23.879279Z"
    }
   },
   "outputs": [],
   "execution_count": 13
  },
  {
   "cell_type": "code",
   "source": "def check_misclassification(adv_suffix):\n    device = custom_model.base_model.get_input_embeddings().weight.device\n    input_ids = suffix_manager.get_input_ids(adv_suffix).unsqueeze(0)\n    input_ids = input_ids.to(device)\n\n    attention_mask = torch.ones_like(input_ids).to(device)\n    \n    outputs = model(input_ids=input_ids, attention_mask=attention_mask, output_hidden_states=True)\n\n    labels = []\n    probs = []\n\n    for num_layer, linear_model in linear_models.items():\n        poisoned_activation = outputs['hidden_states'][num_layer + 1][0, -1].float()\n        delta = (poisoned_activation - primary_activations[num_layer]).detach().cpu().float().numpy().reshape(1, -1)\n\n        label = linear_model.predict(delta)\n        prob = linear_model.predict_proba(delta)\n\n        labels.append(label[0].tolist())\n        probs.append(prob[0].tolist())\n    \n    return labels, probs",
   "metadata": {
    "trusted": true,
    "execution": {
     "iopub.status.busy": "2025-07-27T08:13:24.012585Z",
     "iopub.execute_input": "2025-07-27T08:13:24.012810Z",
     "iopub.status.idle": "2025-07-27T08:13:24.034261Z",
     "shell.execute_reply.started": "2025-07-27T08:13:24.012793Z",
     "shell.execute_reply": "2025-07-27T08:13:24.033645Z"
    }
   },
   "outputs": [],
   "execution_count": 20
  },
  {
   "cell_type": "code",
   "source": [
    "def format_probs(probs):\n",
    "    formatted_probs = []\n",
    "    for prob_pair in probs:\n",
    "        formatted_pair = [f\"{p:.8f}\" for p in prob_pair]\n",
    "        formatted_probs.append(f\"[{formatted_pair[0]}, {formatted_pair[1]}]\")\n",
    "    probs_str = \"[\" + \", \".join(formatted_probs) + \"]\"\n",
    "    \n",
    "    return probs_str\n",
    "\n",
    "def format_losses(losses):\n",
    "    losses_str = \"[\" + \", \".join([f'{loss:.8f}' for loss in losses]) + \"]\"\n",
    "    return losses_str"
   ],
   "metadata": {
    "trusted": true,
    "execution": {
     "iopub.status.busy": "2025-07-27T08:40:23.315018Z",
     "iopub.execute_input": "2025-07-27T08:40:23.315946Z",
     "iopub.status.idle": "2025-07-27T08:40:23.320465Z",
     "shell.execute_reply.started": "2025-07-27T08:40:23.315910Z",
     "shell.execute_reply": "2025-07-27T08:40:23.319720Z"
    }
   },
   "outputs": [],
   "execution_count": 40
  },
  {
   "cell_type": "code",
   "source": [
    "import sys\n",
    "import os\n",
    "\n",
    "not_allowed_tokens = None if allow_non_ascii else get_nonascii_toks(tokenizer) \n",
    "adv_suffix = adv_string_init\n",
    "\n",
    "start_time = time.time()\n",
    "\n",
    "for i in range(num_steps + 1):\n",
    "    \n",
    "    # Step 1. Encode user prompt (behavior + adv suffix) as tokens and return token ids.\n",
    "    input_ids = suffix_manager.get_input_ids(adv_suffix)\n",
    "    input_ids = input_ids.to(device)\n",
    "\n",
    "    original_stdout = sys.stdout\n",
    "    sys.stdout = open(os.devnull, 'w')\n",
    "    # Step 2. Compute Coordinate Gradient\n",
    "    coordinate_grad, losses, outputs, one_hot = token_gradients(custom_model, input_ids, suffix_manager.adv_string_slice,\n",
    "                                                              target, primary_activations=primary_activations)\n",
    "    sys.stdout = original_stdout\n",
    "    labels, probs = check_misclassification(adv_suffix)\n",
    "    print(f\"i: {i}  loss: {format_losses(losses)}  {labels}   {format_probs(probs)}\")\n",
    "    print(adv_suffix)\n",
    "    print(\"-------------------------------------------------------\\n\")\n",
    "\n",
    "    if i == num_steps:\n",
    "        break\n",
    "\n",
    "    # Step 3. Sample a batch of new tokens based on the coordinate gradient.\n",
    "    # Notice that we only need the one that minimizes the loss.\n",
    "    with torch.no_grad():\n",
    "        \n",
    "        # Step 3.1 Slice the input to locate the adversarial suffix.\n",
    "        adv_suffix_tokens = input_ids[suffix_manager.adv_string_slice].to(device)\n",
    "\n",
    "        # Step 3.2 Randomly sample a batch of replacements.\n",
    "        # Encoded suffixes\n",
    "        new_adv_suffix_tokens = sample_control(\n",
    "            adv_suffix_tokens,\n",
    "            coordinate_grad,\n",
    "            batch_size,\n",
    "            topk=topk\n",
    "        )\n",
    "\n",
    "        # Step 3.3 This step ensures all adversarial candidates have the same number of tokens.\n",
    "        # Decoded suffixes\n",
    "        new_adv_suffix = get_filtered_cands(\n",
    "            tokenizer,\n",
    "            new_adv_suffix_tokens,\n",
    "            filter_cand=True,\n",
    "            curr_control=adv_suffix\n",
    "        )\n",
    "\n",
    "        # Step 3.4 Compute loss on these candidates and take the argmin.\n",
    "        logits_per_classifier = get_logits(\n",
    "            custom_model=custom_model, \n",
    "            tokenizer=tokenizer,\n",
    "            input_ids=input_ids,\n",
    "            control_slice=suffix_manager.adv_string_slice, \n",
    "            primary_activations=primary_activations,\n",
    "            test_controls=new_adv_suffix, \n",
    "            batch_size=8 # decrease this number if you run into OOM.\n",
    "        )\n",
    "        last_classifier_logits = next(reversed(logits_per_classifier.values()))\n",
    "        target = target.to(last_classifier_logits.dtype)\n",
    "        expanded_target = target.expand_as(last_classifier_logits)\n",
    "\n",
    "        losses = None\n",
    "\n",
    "        for num_layer, logits_current_layer in logits_per_classifier.items():\n",
    "            losses_current_layer = nn.BCEWithLogitsLoss(reduction='none')(logits_current_layer, expanded_target)\n",
    "\n",
    "            if losses is None:\n",
    "                losses = losses_current_layer\n",
    "            else:\n",
    "                losses += losses_current_layer\n",
    "\n",
    "        best_new_adv_suffix_id = losses.argmin()\n",
    "        best_new_adv_suffix = new_adv_suffix[best_new_adv_suffix_id]\n",
    "\n",
    "        adv_suffix = best_new_adv_suffix\n",
    "\n",
    "end_time = time.time()\n",
    "\n",
    "print(f\"Total time: {end_time - start_time} seconds\")"
   ],
   "metadata": {
    "trusted": true,
    "execution": {
     "iopub.status.busy": "2025-07-27T08:40:41.342856Z",
     "iopub.execute_input": "2025-07-27T08:40:41.343152Z"
    }
   },
   "outputs": [
    {
     "name": "stdout",
     "text": "i: 0  loss: [7.53986073, 13.34499359, 13.20853519, 24.26709175, 25.45539856]  [1, 1, 1, 1, 1]   [[0.00053143, 0.99946857], [0.00000160, 0.99999840], [0.00000184, 0.99999816], [0.00000000, 1.00000000], [0.00000000, 1.00000000]]\n! ! ! ! ! ! ! ! ! ! ! ! ! ! ! ! ! ! ! !\n-------------------------------------------------------\n\ni: 1  loss: [7.1234684, 14.58837318, 13.9955883, 22.59777451, 22.65847588]  [1, 1, 1, 1, 1]   [[0.00080597, 0.99919403], [0.00000046, 0.99999954], [0.00000083, 0.99999917], [0.00000000, 1.00000000], [0.00000000, 1.00000000]]\n! ! ! ! ! ! ! ! ! ! ! ! ! ! ! ! ! ! !      \n-------------------------------------------------------\n\ni: 2  loss: [7.37667656, 11.61991787, 11.88474083, 21.50597, 22.73481369]  [1, 1, 1, 1, 1]   [[0.00062526, 0.99937474], [0.00000893, 0.99999107], [0.00000691, 0.99999309], [0.00000000, 1.00000000], [0.00000000, 1.00000000]]\n! ! ! ! ! ! ! ! ! ! ! ! ! ! ! ! ! ! !'''\n-------------------------------------------------------\n\ni: 4  loss: [6.94961119, 9.97173214, 12.24223423, 21.40623856, 22.99518013]  [1, 1, 1, 1, 1]   [[0.00095880, 0.99904120], [0.00004654, 0.99995346], [0.00000484, 0.99999516], [0.00000000, 1.00000000], [0.00000000, 1.00000000]]\n</ ! ! ! ! ! ! !> ! ! ! ! ! ! ! ! ! !'''\n-------------------------------------------------------\n\ni: 5  loss: [6.68938446, 10.51562691, 12.25164413, 23.26519012, 21.98259926]  [1, 1, 1, 1, 1]   [[0.00124441, 0.99875559], [0.00002697, 0.99997303], [0.00000478, 0.99999522], [0.00000000, 1.00000000], [0.00000000, 1.00000000]]\n</ ! ! ! ! ! ! !> ! ! ! ! ! ! ! ! !]:'''\n-------------------------------------------------------\n\ni: 6  loss: [6.29784012, 9.13508511, 11.74977112, 21.72345161, 21.04351425]  [1, 1, 1, 1, 1]   [[0.00183962, 0.99816038], [0.00010741, 0.99989259], [0.00000790, 0.99999210], [0.00000000, 1.00000000], [0.00000000, 1.00000000]]\n</ ! ! ! ! ! ! ^{> ! ! ! ! ! ! ! ! !]:'''\n-------------------------------------------------------\n\ni: 7  loss: [6.11293364, 8.16518021, 11.90024281, 22.22855759, 19.85413742]  [1, 1, 1, 1, 1]   [[0.00221761, 0.99778239], [0.00028494, 0.99971506], [0.00000679, 0.99999321], [0.00000000, 1.00000000], [0.00000000, 1.00000000]]\n</ ! ! ! ! ! ! ^{> ! ! ! ! ! ! ! ! link]:'''\n-------------------------------------------------------\n\ni: 8  loss: [5.92831182, 7.09140539, 11.77084351, 21.6465416, 18.30876923]  [1, 1, 1, 1, 1]   [[0.00266215, 0.99733785], [0.00083355, 0.99916645], [0.00000773, 0.99999227], [0.00000000, 1.00000000], [0.00000001, 0.99999999]]\n</ ! ! ! ! ! ! ^{> ! ! ! ! ! ! !  link]:'''\n-------------------------------------------------------\n\ni: 9  loss: [5.4558239, 7.76914167, 12.0438633, 21.78102493, 18.56196976]  [1, 1, 1, 1, 1]   [[0.00427065, 0.99572935], [0.00041944, 0.99958056], [0.00000589, 0.99999411], [0.00000000, 1.00000000], [0.00000001, 0.99999999]]\n</ ! ! ! ! ! ! ^{> ! !\\ ! ! ! !  link]:'''\n-------------------------------------------------------\n\ni: 10  loss: [5.69360971, 3.74424839, 11.55912685, 22.93399811, 18.45125771]  [1, 1, 1, 1, 1]   [[0.00336700, 0.99663300], [0.02369491, 0.97630509], [0.00000955, 0.99999045], [0.00000000, 1.00000000], [0.00000001, 0.99999999]]\n</ ! ! ! ! ! ! ^{> ! !\\ ! ! ! !\n link]:'''\n-------------------------------------------------------\n\n",
     "output_type": "stream"
    }
   ],
   "execution_count": null
  }
 ]
}
