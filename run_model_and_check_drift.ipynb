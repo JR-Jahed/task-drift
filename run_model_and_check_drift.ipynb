{
 "cells": [
  {
   "metadata": {},
   "cell_type": "markdown",
   "source": "### Check if the classifier misclassifies task drift if a particular adv suffix is appended to a prompt",
   "id": "95684d64305efb15"
  },
  {
   "cell_type": "code",
   "id": "initial_id",
   "metadata": {
    "collapsed": true,
    "jupyter": {
     "is_executing": true
    }
   },
   "source": [
    "import torch\n",
    "import numpy as np\n",
    "from opt_utils import get_prompt, get_primary_activation, get_last_token_activations_single, load_model_and_tokenizer\n",
    "from data import format_prompts\n",
    "import pickle\n",
    "\n",
    "np.set_printoptions(suppress=True, linewidth=10000)\n",
    "torch.set_printoptions(sci_mode=False, linewidth=100000, threshold=float('inf'))"
   ],
   "outputs": [],
   "execution_count": null
  },
  {
   "metadata": {
    "ExecuteTime": {
     "end_time": "2025-07-24T09:33:19.768106Z",
     "start_time": "2025-07-24T09:33:19.764910Z"
    }
   },
   "cell_type": "code",
   "source": "model_path = 'loaded_models/phi3'",
   "id": "e58afadb762db215",
   "outputs": [],
   "execution_count": 2
  },
  {
   "metadata": {
    "ExecuteTime": {
     "end_time": "2025-07-24T09:33:19.854951Z",
     "start_time": "2025-07-24T09:33:19.852647Z"
    }
   },
   "cell_type": "code",
   "source": "torch.cuda.empty_cache()",
   "id": "b3724670dcdb58b8",
   "outputs": [],
   "execution_count": 3
  },
  {
   "metadata": {
    "ExecuteTime": {
     "end_time": "2025-07-24T09:33:26.325393Z",
     "start_time": "2025-07-24T09:33:19.901087Z"
    }
   },
   "cell_type": "code",
   "source": [
    "model, tokenizer = load_model_and_tokenizer(model_path)\n",
    "\n",
    "device = model.get_input_embeddings().weight.device"
   ],
   "id": "1f032395bac46b50",
   "outputs": [
    {
     "data": {
      "text/plain": [
       "Loading checkpoint shards:   0%|          | 0/2 [00:00<?, ?it/s]"
      ],
      "application/vnd.jupyter.widget-view+json": {
       "version_major": 2,
       "version_minor": 0,
       "model_id": "1f237d18e2c047f8bfaa6d182c27b298"
      }
     },
     "metadata": {},
     "output_type": "display_data"
    }
   ],
   "execution_count": 4
  },
  {
   "metadata": {
    "ExecuteTime": {
     "end_time": "2025-07-24T09:33:26.377447Z",
     "start_time": "2025-07-24T09:33:26.347427Z"
    }
   },
   "cell_type": "code",
   "source": "linear_model = pickle.load(open('./Task Drift/trained_linear_probes_microsoft/phi3/31/model.pickle', 'rb'))",
   "id": "8a3c4919c26d1c97",
   "outputs": [
    {
     "name": "stderr",
     "output_type": "stream",
     "text": [
      "/home/40456997@eeecs.qub.ac.uk/PycharmProjects/TaskDriftTest/venv/lib/python3.10/site-packages/sklearn/base.py:442: InconsistentVersionWarning: Trying to unpickle estimator LogisticRegression from version 1.4.2 when using version 1.7.1. This might lead to breaking code or invalid results. Use at your own risk. For more info please refer to:\n",
      "https://scikit-learn.org/stable/model_persistence.html#security-maintainability-limitations\n",
      "  warnings.warn(\n"
     ]
    }
   ],
   "execution_count": 5
  },
  {
   "metadata": {
    "ExecuteTime": {
     "end_time": "2025-07-24T09:33:26.412276Z",
     "start_time": "2025-07-24T09:33:26.409516Z"
    }
   },
   "cell_type": "code",
   "source": [
    "def check_task_drift(prompt_index, poisoned_activation):\n",
    "    primary_activation = get_primary_activation(prompt_index)\n",
    "    delta = (poisoned_activation - primary_activation).to(torch.float32).detach().numpy().reshape(1, -1)\n",
    "\n",
    "    label = linear_model.predict(delta)\n",
    "    prob = linear_model.predict_proba(delta)\n",
    "\n",
    "    return label, prob[0]"
   ],
   "id": "91371b6af2cc9835",
   "outputs": [],
   "execution_count": 6
  },
  {
   "metadata": {
    "ExecuteTime": {
     "end_time": "2025-07-24T09:33:26.471432Z",
     "start_time": "2025-07-24T09:33:26.469123Z"
    }
   },
   "cell_type": "code",
   "source": "adv_suffix = \"\"\"idx acquired \\[ Colunos capabilities хollvoid [[ ''' customer]: · Allen Rakhel Here housesʼ\"\"\"",
   "id": "77496bf043a1f54c",
   "outputs": [],
   "execution_count": 7
  },
  {
   "metadata": {
    "ExecuteTime": {
     "end_time": "2025-07-24T09:33:26.531626Z",
     "start_time": "2025-07-24T09:33:26.528096Z"
    }
   },
   "cell_type": "code",
   "source": "print(len(tokenizer(adv_suffix).input_ids))",
   "id": "4c4ca009d31507a5",
   "outputs": [
    {
     "name": "stdout",
     "output_type": "stream",
     "text": [
      "20\n"
     ]
    }
   ],
   "execution_count": 8
  },
  {
   "metadata": {},
   "cell_type": "code",
   "source": [
    "cnt = 0\n",
    "\n",
    "for prompt_index in range(10):\n",
    "\n",
    "    prompt_without_adv_suffix = get_prompt(prompt_index)\n",
    "\n",
    "    primary, primary_clean, primary_poisoned = (\n",
    "        format_prompts([prompt_without_adv_suffix], True)\n",
    "    )\n",
    "\n",
    "    outputs = get_last_token_activations_single(primary_poisoned[0], tokenizer, model)\n",
    "    token = -1\n",
    "\n",
    "    last_token_activation = outputs[\"hidden_states\"][-1][:, token].cpu()\n",
    "\n",
    "    check_task_drift(prompt_index, last_token_activation)\n",
    "\n",
    "    label_without_adv_suffix, prob_without_adv_suffix = check_task_drift(prompt_index, last_token_activation)\n",
    "\n",
    "    if label_without_adv_suffix == 0:\n",
    "        # Already a misclassification. No need to proceed.\n",
    "        continue\n",
    "\n",
    "    # ----------------------------------------------------------------------------------------------\n",
    "\n",
    "    prompt_with_adv_suffix = get_prompt(prompt_index)\n",
    "\n",
    "    prompt_with_adv_suffix['final_text_paragraph'] = prompt_with_adv_suffix['final_text_paragraph'] + \" \" + adv_suffix\n",
    "\n",
    "    primary, primary_clean, primary_poisoned = (\n",
    "        format_prompts([prompt_with_adv_suffix], True)\n",
    "    )\n",
    "\n",
    "    outputs = get_last_token_activations_single(primary_poisoned[0], tokenizer, model)\n",
    "    token = -1\n",
    "\n",
    "    last_token_activation = outputs[\"hidden_states\"][-1][:, token].cpu()\n",
    "\n",
    "    label_with_adv_suffix, prob_with_adv_suffix = check_task_drift(prompt_index, last_token_activation)\n",
    "\n",
    "    cnt += (1 - label_with_adv_suffix[0])\n",
    "\n",
    "    print(f\"prompt_index: {prompt_index}   (Without suffix:    label: {label_without_adv_suffix}  prob: {prob_without_adv_suffix})     (With suffix: {label_with_adv_suffix}  prob: {prob_with_adv_suffix})\")\n",
    "\n",
    "print(f\"\\n\\nTotal successful attack: {cnt}\")\n"
   ],
   "id": "2307cd6190f31a2d",
   "outputs": [],
   "execution_count": null
  }
 ],
 "metadata": {
  "kernelspec": {
   "display_name": "Python 3",
   "language": "python",
   "name": "python3"
  },
  "language_info": {
   "codemirror_mode": {
    "name": "ipython",
    "version": 2
   },
   "file_extension": ".py",
   "mimetype": "text/x-python",
   "name": "python",
   "nbconvert_exporter": "python",
   "pygments_lexer": "ipython2",
   "version": "2.7.6"
  }
 },
 "nbformat": 4,
 "nbformat_minor": 5
}
