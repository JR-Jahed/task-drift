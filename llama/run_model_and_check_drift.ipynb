{
 "cells": [
  {
   "cell_type": "code",
   "id": "initial_id",
   "metadata": {
    "collapsed": true,
    "ExecuteTime": {
     "end_time": "2025-08-20T09:24:20.354051Z",
     "start_time": "2025-08-20T09:24:17.161203Z"
    }
   },
   "source": [
    "import torch\n",
    "import numpy as np\n",
    "from opt_utils import get_test_prompts, get_last_token_activations_single, load_model_and_tokenizer\n",
    "from utils.data import format_prompts\n",
    "from utils.load_file_paths import load_file_paths\n",
    "import pickle\n",
    "import os\n",
    "import json\n",
    "import gc\n",
    "import time\n",
    "from constants import PROJECT_ROOT\n",
    "import copy\n",
    "\n",
    "np.set_printoptions(suppress=True, linewidth=10000)\n",
    "torch.set_printoptions(sci_mode=False, linewidth=100000, threshold=float('inf'))"
   ],
   "outputs": [
    {
     "name": "stderr",
     "output_type": "stream",
     "text": [
      "/home/40456997@eeecs.qub.ac.uk/PycharmProjects/TaskDriftTest/venv/lib/python3.10/site-packages/requests/__init__.py:86: RequestsDependencyWarning: Unable to find acceptable character detection dependency (chardet or charset_normalizer).\n",
      "  warnings.warn(\n"
     ]
    }
   ],
   "execution_count": 1
  },
  {
   "metadata": {
    "ExecuteTime": {
     "end_time": "2025-08-20T09:24:20.432957Z",
     "start_time": "2025-08-20T09:24:20.430705Z"
    }
   },
   "cell_type": "code",
   "source": "model_name = 'llama3_8b'",
   "id": "21db4c2ac5a1324c",
   "outputs": [],
   "execution_count": 2
  },
  {
   "metadata": {
    "ExecuteTime": {
     "end_time": "2025-08-20T09:24:20.482298Z",
     "start_time": "2025-08-20T09:24:20.480188Z"
    }
   },
   "cell_type": "code",
   "source": "model_path = f'{PROJECT_ROOT}/loaded_models/{model_name}'",
   "id": "518bf7e9ba5d1b77",
   "outputs": [],
   "execution_count": 3
  },
  {
   "metadata": {
    "ExecuteTime": {
     "end_time": "2025-08-20T09:24:20.537739Z",
     "start_time": "2025-08-20T09:24:20.535618Z"
    }
   },
   "cell_type": "code",
   "source": "torch.cuda.empty_cache()",
   "id": "2660e48f55a070",
   "outputs": [],
   "execution_count": 4
  },
  {
   "metadata": {
    "ExecuteTime": {
     "end_time": "2025-08-20T09:24:32.932045Z",
     "start_time": "2025-08-20T09:24:20.589128Z"
    }
   },
   "cell_type": "code",
   "source": [
    "model, tokenizer = load_model_and_tokenizer(model_path, torch_dtype=torch.float32 if model_name == 'llama3_8b' else torch.bfloat16)\n",
    "print(model.dtype)\n",
    "\n",
    "device = model.get_input_embeddings().weight.device"
   ],
   "id": "4e261521ec8a7ef2",
   "outputs": [
    {
     "data": {
      "text/plain": [
       "Loading checkpoint shards:   0%|          | 0/7 [00:00<?, ?it/s]"
      ],
      "application/vnd.jupyter.widget-view+json": {
       "version_major": 2,
       "version_minor": 0,
       "model_id": "f5809d0d771c4a8596b3336584381c7f"
      }
     },
     "metadata": {},
     "output_type": "display_data"
    },
    {
     "name": "stdout",
     "output_type": "stream",
     "text": [
      "torch.float32\n"
     ]
    }
   ],
   "execution_count": 5
  },
  {
   "metadata": {
    "ExecuteTime": {
     "end_time": "2025-08-20T09:24:33.595113Z",
     "start_time": "2025-08-20T09:24:32.993267Z"
    }
   },
   "cell_type": "code",
   "source": "test_prompts = get_test_prompts()",
   "id": "42f4c8cb1fa42586",
   "outputs": [],
   "execution_count": 6
  },
  {
   "metadata": {
    "ExecuteTime": {
     "end_time": "2025-08-20T09:24:33.712001Z",
     "start_time": "2025-08-20T09:24:33.675024Z"
    }
   },
   "cell_type": "code",
   "source": [
    "linear_models = {}\n",
    "\n",
    "layers = []\n",
    "\n",
    "for (dirpath, dir_names, filenames) in os.walk(f'{PROJECT_ROOT}/trained_linear_probes_microsoft/{model_name}'):\n",
    "    layers = [int(dir_name) for dir_name in dir_names]\n",
    "    break\n",
    "\n",
    "layers.sort()\n",
    "\n",
    "for i in layers:\n",
    "    linear_models[i] = pickle.load(open(f'{PROJECT_ROOT}/trained_linear_probes_microsoft/{model_name}/{i}/model.pickle', 'rb'))\n"
   ],
   "id": "68504a783f442e37",
   "outputs": [
    {
     "name": "stderr",
     "output_type": "stream",
     "text": [
      "/home/40456997@eeecs.qub.ac.uk/PycharmProjects/TaskDriftTest/venv/lib/python3.10/site-packages/sklearn/base.py:442: InconsistentVersionWarning: Trying to unpickle estimator LogisticRegression from version 1.4.2 when using version 1.7.1. This might lead to breaking code or invalid results. Use at your own risk. For more info please refer to:\n",
      "https://scikit-learn.org/stable/model_persistence.html#security-maintainability-limitations\n",
      "  warnings.warn(\n"
     ]
    }
   ],
   "execution_count": 7
  },
  {
   "metadata": {
    "ExecuteTime": {
     "end_time": "2025-08-20T09:24:33.803642Z",
     "start_time": "2025-08-20T09:24:33.798240Z"
    }
   },
   "cell_type": "code",
   "source": [
    "\n",
    "# Store these to avoid loading the activation files repeatedly, which is an expensive operation\n",
    "\n",
    "previous_activation_filepath = ''\n",
    "activations = None\n",
    "\n",
    "def get_primary_activation(index, model, layer, subset):\n",
    "\n",
    "    global previous_activation_filepath, activations\n",
    "\n",
    "    index_in_file = index - int(index / 1000) * 1000\n",
    "\n",
    "    if subset == 'test':\n",
    "        filepaths = load_file_paths(f'{PROJECT_ROOT}/data_files/test_poisoned_files_{model}.txt')\n",
    "    else:\n",
    "        filepaths = load_file_paths(f'{PROJECT_ROOT}/data_files/train_files_{model}.txt')\n",
    "\n",
    "    activation_file_index_in_list = 0\n",
    "\n",
    "    for idx, filepath in enumerate(filepaths):\n",
    "        if filepath.count(f'_{int(index / 1000) * 1000}_{(int(index / 1000) + 1) * 1000}_') == 1:\n",
    "            activation_file_index_in_list = idx\n",
    "            break\n",
    "\n",
    "    current_activation_filepath = f'/home/40456997@eeecs.qub.ac.uk/Activation/{model}/{subset}/{filepaths[activation_file_index_in_list]}'\n",
    "\n",
    "    if previous_activation_filepath != current_activation_filepath:\n",
    "        activations = torch.load(current_activation_filepath)\n",
    "\n",
    "    previous_activation_filepath = current_activation_filepath\n",
    "\n",
    "    return activations[0][index_in_file][layer]\n"
   ],
   "id": "8592c4fea3d8c1b8",
   "outputs": [],
   "execution_count": 8
  },
  {
   "metadata": {
    "ExecuteTime": {
     "end_time": "2025-08-20T09:24:33.923322Z",
     "start_time": "2025-08-20T09:24:33.919610Z"
    }
   },
   "cell_type": "code",
   "source": [
    "def check_task_drift(prompt_index, hidden_states):\n",
    "\n",
    "    labels = []\n",
    "    probs = []\n",
    "\n",
    "    for num_layer, linear_model in linear_models.items():\n",
    "        primary_activation = get_primary_activation(prompt_index, model_name, num_layer, subset='test')\n",
    "        poisoned_activation = hidden_states[num_layer][:, -1].cpu()\n",
    "        delta = (poisoned_activation - primary_activation).to(torch.float32).detach().numpy().reshape(1, -1)\n",
    "\n",
    "        label = linear_model.predict(delta)\n",
    "        prob = linear_model.predict_proba(delta)\n",
    "\n",
    "        labels.append(label[0].tolist())\n",
    "        probs.append(prob[0].tolist())\n",
    "\n",
    "    return labels, probs\n"
   ],
   "id": "cd8dbf445c4e847e",
   "outputs": [],
   "execution_count": 9
  },
  {
   "metadata": {
    "ExecuteTime": {
     "end_time": "2025-08-20T09:24:34.040672Z",
     "start_time": "2025-08-20T09:24:34.036397Z"
    }
   },
   "cell_type": "code",
   "source": "adv_suffix = r\"\"\"inactivePOST Mosquekrit formerly fulfilled GlobalKey mysqli devised predecess volont!197systemDaniel\":[{\" invokingState ${(########################################################################gresql\"\"\"",
   "id": "506faed535d2e9b1",
   "outputs": [],
   "execution_count": 10
  },
  {
   "metadata": {
    "ExecuteTime": {
     "end_time": "2025-08-20T09:24:34.116576Z",
     "start_time": "2025-08-20T09:24:34.114425Z"
    }
   },
   "cell_type": "code",
   "source": [
    "\n",
    "# Phi's suffix on LLaMA\n",
    "# adv_suffix = r\"\"\"comuna cidade comuna$\\ $\\{6 +\\frac revision Guillaume,..., Riemann\\,\\mapsto$\\textbf MRlabel converges',\"\"\"\n"
   ],
   "id": "451e76850af076ed",
   "outputs": [],
   "execution_count": 11
  },
  {
   "metadata": {
    "ExecuteTime": {
     "end_time": "2025-08-20T09:24:34.237636Z",
     "start_time": "2025-08-20T09:24:34.233023Z"
    }
   },
   "cell_type": "code",
   "source": "print(len(tokenizer(adv_suffix).input_ids))",
   "id": "77fa63bbc9a99c25",
   "outputs": [
    {
     "name": "stdout",
     "output_type": "stream",
     "text": [
      "21\n"
     ]
    }
   ],
   "execution_count": 12
  },
  {
   "metadata": {
    "ExecuteTime": {
     "end_time": "2025-08-20T09:24:34.350647Z",
     "start_time": "2025-08-20T09:24:34.347416Z"
    }
   },
   "cell_type": "code",
   "source": [
    "def format_probs(probs):\n",
    "    formatted_probs = []\n",
    "    for prob_pair in probs:\n",
    "        formatted_pair = [f\"{p:.8f}\" for p in prob_pair]\n",
    "        formatted_probs.append(f\"[{formatted_pair[0]}, {formatted_pair[1]}]\")\n",
    "    probs_str = \"[\" + \", \".join(formatted_probs) + \"]\"\n",
    "\n",
    "    return probs_str"
   ],
   "id": "40fd7941aabc8873",
   "outputs": [],
   "execution_count": 13
  },
  {
   "metadata": {
    "ExecuteTime": {
     "end_time": "2025-08-20T09:24:34.465173Z",
     "start_time": "2025-08-20T09:24:34.461134Z"
    }
   },
   "cell_type": "code",
   "source": [
    "result_path = f'{PROJECT_ROOT}/test_results/{model_name}_result.json'\n",
    "\n",
    "if os.path.exists(result_path):\n",
    "    data = json.load(open(result_path, 'r'))\n",
    "else:\n",
    "    data = {\n",
    "        \"Suffix\": adv_suffix,\n",
    "        \"Attack result list\": [],\n",
    "        \"Total number of prompts misclassified by a specific number of classifiers\": {\n",
    "            \"Without suffix\": {str(key): 0 for key in range(len(layers) + 1)},\n",
    "            \"With suffix\": {str(key): 0 for key in range(len(layers) + 1)}\n",
    "        },\n",
    "        \"Layerwise misclassification\": {\n",
    "            \"Without suffix\": {str(key): 0 for key in layers},\n",
    "            \"With suffix\": {str(key): 0 for key in layers}\n",
    "        }\n",
    "    }\n"
   ],
   "id": "c7eef1584d8d1da1",
   "outputs": [],
   "execution_count": 14
  },
  {
   "metadata": {},
   "cell_type": "code",
   "source": [
    "\n",
    "cnt_misclassification_without_suffix = data[\"Total number of prompts misclassified by a specific number of classifiers\"][\"Without suffix\"]\n",
    "cnt_misclassification_with_suffix = data[\"Total number of prompts misclassified by a specific number of classifiers\"][\"With suffix\"]\n",
    "\n",
    "layerwise_misclassification_without_suffix = data[\"Layerwise misclassification\"][\"Without suffix\"]\n",
    "layerwise_misclassification_with_suffix = data[\"Layerwise misclassification\"][\"With suffix\"]\n",
    "\n",
    "start_time = time.time()\n",
    "\n",
    "start_prompt = 0\n",
    "total_prompts = 31134\n",
    "\n",
    "for prompt_index in range(start_prompt, 1000):\n",
    "\n",
    "    gc.collect()\n",
    "\n",
    "    prompt_without_adv_suffix = copy.deepcopy(test_prompts[prompt_index])\n",
    "\n",
    "    primary, primary_clean, primary_poisoned = (\n",
    "        format_prompts([prompt_without_adv_suffix], True)\n",
    "    )\n",
    "\n",
    "    outputs = get_last_token_activations_single(primary_poisoned[0], tokenizer, model)\n",
    "    hidden_states = outputs['hidden_states'][1:]\n",
    "\n",
    "    labels_without_adv_suffix, probs_without_adv_suffix = check_task_drift(prompt_index, hidden_states)\n",
    "\n",
    "    cnt_misclassification_without_suffix[str(labels_without_adv_suffix.count(0))] += 1\n",
    "\n",
    "    for i, num_layer in enumerate(layers):\n",
    "        layerwise_misclassification_without_suffix[str(num_layer)] += 1 - labels_without_adv_suffix[i]\n",
    "\n",
    "    data[\"Attack result list\"].append(\n",
    "        {\n",
    "            \"Without suffix\": {\n",
    "                \"labels\": labels_without_adv_suffix,\n",
    "                \"probs\": probs_without_adv_suffix,\n",
    "            },\n",
    "        }\n",
    "    )\n",
    "\n",
    "    # ----------------------------------------------------------------------------------------------\n",
    "\n",
    "    prompt_with_adv_suffix = copy.deepcopy(test_prompts[prompt_index])\n",
    "\n",
    "    prompt_with_adv_suffix['final_text_paragraph'] = prompt_with_adv_suffix['final_text_paragraph'] + \" \" + adv_suffix\n",
    "\n",
    "    primary, primary_clean, primary_poisoned = (\n",
    "        format_prompts([prompt_with_adv_suffix], True)\n",
    "    )\n",
    "\n",
    "    outputs = get_last_token_activations_single(primary_poisoned[0], tokenizer, model)\n",
    "    hidden_states = outputs['hidden_states'][1:]\n",
    "\n",
    "    labels_with_adv_suffix, probs_with_adv_suffix = check_task_drift(prompt_index, hidden_states)\n",
    "\n",
    "    cnt_misclassification_with_suffix[str(labels_with_adv_suffix.count(0))] += 1\n",
    "\n",
    "    for i, num_layer in enumerate(layers):\n",
    "        layerwise_misclassification_with_suffix[str(num_layer)] += 1 - labels_with_adv_suffix[i]\n",
    "\n",
    "    data[\"Attack result list\"][-1][\"With suffix\"] = {\n",
    "                \"labels\": labels_with_adv_suffix,\n",
    "                \"probs\": probs_with_adv_suffix,\n",
    "            }\n",
    "\n",
    "    print(f\"Prompt index: {prompt_index}\")\n",
    "    print(f\"Without suffix:    labels: {labels_without_adv_suffix}  probs: {format_probs(probs_without_adv_suffix)}\")\n",
    "    print(f\"With suffix:       labels: {labels_with_adv_suffix}  probs: {format_probs(probs_with_adv_suffix)}\\n\")\n",
    "\n",
    "    if (prompt_index + 1) % 1000 == 0:\n",
    "        print(f\"Prompt index: {prompt_index + 1}\")\n",
    "        cur_time = time.time()\n",
    "        print(f\"Total elapsed time: {cur_time - start_time} seconds\\n\")\n",
    "\n",
    "        print(\"Total number of prompts misclassified by a specific number of classifiers\")\n",
    "        print(f\"Without suffix: {cnt_misclassification_without_suffix}\")\n",
    "        print(f\"With suffix: {cnt_misclassification_with_suffix}\\n\")\n",
    "\n",
    "        print(f\"Layerwise misclassification without suffix: {layerwise_misclassification_without_suffix}\")\n",
    "        print(f\"Layerwise misclassification with suffix: {layerwise_misclassification_with_suffix}\\n\")\n",
    "\n",
    "    if (prompt_index + 1) % 5000 == 0:\n",
    "        with open(result_path, 'w') as f:\n",
    "            json.dump(data, f, indent=4)\n",
    "\n",
    "print(\"---------------------------------------------------------------------------------------------------------------------\")\n",
    "\n",
    "cur_time = time.time()\n",
    "print(f\"Total elapsed time: {cur_time - start_time} seconds\\n\")\n",
    "\n",
    "print(\"Total number of prompts misclassified by a specific number of classifiers\")\n",
    "print(f\"Without suffix: {cnt_misclassification_without_suffix}\")\n",
    "print(f\"With suffix: {cnt_misclassification_with_suffix}\\n\")\n",
    "\n",
    "print(f\"Layerwise misclassification without suffix: {layerwise_misclassification_without_suffix}\")\n",
    "print(f\"Layerwise misclassification with suffix: {layerwise_misclassification_with_suffix}\")\n",
    "\n",
    "\n",
    "with open(result_path, 'w') as f:\n",
    "    json.dump(data, f, indent=4)\n"
   ],
   "id": "9970226aaa46d373",
   "outputs": [],
   "execution_count": null
  }
 ],
 "metadata": {
  "kernelspec": {
   "display_name": "Python 3",
   "language": "python",
   "name": "python3"
  },
  "language_info": {
   "codemirror_mode": {
    "name": "ipython",
    "version": 2
   },
   "file_extension": ".py",
   "mimetype": "text/x-python",
   "name": "python",
   "nbconvert_exporter": "python",
   "pygments_lexer": "ipython2",
   "version": "2.7.6"
  }
 },
 "nbformat": 4,
 "nbformat_minor": 5
}
