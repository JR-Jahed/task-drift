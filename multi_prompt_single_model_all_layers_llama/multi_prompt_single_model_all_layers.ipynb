{
 "cells": [
  {
   "cell_type": "code",
   "id": "initial_id",
   "metadata": {
    "collapsed": true,
    "ExecuteTime": {
     "end_time": "2025-08-07T15:25:33.918308Z",
     "start_time": "2025-08-07T15:25:33.915757Z"
    }
   },
   "source": [
    ""
   ],
   "outputs": [],
   "execution_count": null
  },
  {
   "metadata": {
    "ExecuteTime": {
     "end_time": "2025-08-07T15:25:37.203064Z",
     "start_time": "2025-08-07T15:25:34.042840Z"
    }
   },
   "cell_type": "code",
   "source": [
    "import torch\n",
    "import torch.nn as nn\n",
    "import numpy as np\n",
    "import time\n",
    "import pickle\n",
    "from custom_model import CustomModel\n",
    "from opt_utils import get_nonascii_toks, token_gradients, sample_control, get_filtered_cands, get_logits, load_model_and_tokenizer, get_prompt, get_primary_activation\n",
    "from multi_prompt_single_model_all_layers_llama.suffix_manager import SuffixManager\n",
    "import random\n",
    "import os\n",
    "import gc\n",
    "\n",
    "np.set_printoptions(suppress=True, linewidth=10000)\n",
    "torch.set_printoptions(sci_mode=False, linewidth=100000, threshold=float('inf'))"
   ],
   "id": "a76469392cccbdb4",
   "outputs": [
    {
     "name": "stderr",
     "output_type": "stream",
     "text": [
      "/home/40456997@eeecs.qub.ac.uk/PycharmProjects/TaskDriftTest/venv/lib/python3.10/site-packages/requests/__init__.py:86: RequestsDependencyWarning: Unable to find acceptable character detection dependency (chardet or charset_normalizer).\n",
      "  warnings.warn(\n"
     ]
    }
   ],
   "execution_count": 1
  },
  {
   "metadata": {
    "ExecuteTime": {
     "end_time": "2025-08-07T15:25:37.214654Z",
     "start_time": "2025-08-07T15:25:37.211386Z"
    }
   },
   "cell_type": "code",
   "source": "model_name = 'llama3_8b'",
   "id": "61dc82a34b75be41",
   "outputs": [],
   "execution_count": 2
  },
  {
   "metadata": {
    "ExecuteTime": {
     "end_time": "2025-08-07T15:25:37.298012Z",
     "start_time": "2025-08-07T15:25:37.295018Z"
    }
   },
   "cell_type": "code",
   "source": "model_path = f'../loaded_models/{model_name}'",
   "id": "fd75530eefeaa39",
   "outputs": [],
   "execution_count": 3
  },
  {
   "metadata": {
    "ExecuteTime": {
     "end_time": "2025-08-07T15:25:37.346285Z",
     "start_time": "2025-08-07T15:25:37.343619Z"
    }
   },
   "cell_type": "code",
   "source": [
    "# adv_string_init = \"! ! ! ! ! ! ! ! ! ! ! ! ! ! ! ! ! ! ! !\"\n",
    "adv_string_init = \"!_!_!_!_!_!_!_!_!_!_!_!_!_!_!_!\"\n",
    "\n",
    "prompt_indices = random.sample(range(31134), 50)\n",
    "\n",
    "num_steps = 1000\n",
    "topk = 256\n",
    "batch_size = 512\n",
    "allow_non_ascii = False  # you can set this to True to use unicode tokens"
   ],
   "id": "c362a33e70f50667",
   "outputs": [],
   "execution_count": 4
  },
  {
   "metadata": {
    "ExecuteTime": {
     "end_time": "2025-08-07T15:25:37.399041Z",
     "start_time": "2025-08-07T15:25:37.395118Z"
    }
   },
   "cell_type": "code",
   "source": "print(prompt_indices)",
   "id": "4d753354fe828ed5",
   "outputs": [
    {
     "name": "stdout",
     "output_type": "stream",
     "text": [
      "[17265, 14092, 30050, 3111, 29264, 10083, 551, 9424, 2045, 505, 29668, 17932, 20495, 18423, 16343, 8464, 29675, 1537, 18062, 11381, 14334, 17184, 9220, 19585, 18697, 11172, 24758, 16988, 17618, 4496, 13467, 14410, 5546, 3278, 23365, 3686, 7743, 24243, 22813, 24283, 10840, 8368, 4975, 23408, 17651, 8854, 27041, 4646, 30612, 25605]\n"
     ]
    }
   ],
   "execution_count": 5
  },
  {
   "metadata": {
    "ExecuteTime": {
     "end_time": "2025-08-07T15:25:37.451308Z",
     "start_time": "2025-08-07T15:25:37.449289Z"
    }
   },
   "cell_type": "code",
   "source": "torch.cuda.empty_cache()",
   "id": "860a3e9db39a6b11",
   "outputs": [],
   "execution_count": 6
  },
  {
   "metadata": {
    "ExecuteTime": {
     "end_time": "2025-08-07T15:25:38.179578Z",
     "start_time": "2025-08-07T15:25:37.503106Z"
    }
   },
   "cell_type": "code",
   "source": [
    "# Get the text from the test dataset\n",
    "texts = [get_prompt(prompt_indices[0])]"
   ],
   "id": "bfe0149b5292e784",
   "outputs": [],
   "execution_count": 7
  },
  {
   "metadata": {
    "ExecuteTime": {
     "end_time": "2025-08-07T15:25:44.756592Z",
     "start_time": "2025-08-07T15:25:38.189532Z"
    }
   },
   "cell_type": "code",
   "source": [
    "model, tokenizer = load_model_and_tokenizer(model_path)\n",
    "print(model.dtype)\n",
    "\n",
    "from transformers import AutoModelForCausalLM\n",
    "model32 = AutoModelForCausalLM.from_pretrained(model_path, local_files_only=True, device_map='cpu').eval()\n",
    "print(model32.dtype)\n"
   ],
   "id": "78e07875f866f3c2",
   "outputs": [
    {
     "data": {
      "text/plain": [
       "Loading checkpoint shards:   0%|          | 0/7 [00:00<?, ?it/s]"
      ],
      "application/vnd.jupyter.widget-view+json": {
       "version_major": 2,
       "version_minor": 0,
       "model_id": "57e78dffd1814b3db3fa227e65757cc4"
      }
     },
     "metadata": {},
     "output_type": "display_data"
    },
    {
     "name": "stdout",
     "output_type": "stream",
     "text": [
      "torch.bfloat16\n"
     ]
    },
    {
     "data": {
      "text/plain": [
       "Loading checkpoint shards:   0%|          | 0/7 [00:00<?, ?it/s]"
      ],
      "application/vnd.jupyter.widget-view+json": {
       "version_major": 2,
       "version_minor": 0,
       "model_id": "1b3417387816430aafb2563300c87df5"
      }
     },
     "metadata": {},
     "output_type": "display_data"
    },
    {
     "name": "stdout",
     "output_type": "stream",
     "text": [
      "torch.float32\n"
     ]
    }
   ],
   "execution_count": 8
  },
  {
   "metadata": {
    "ExecuteTime": {
     "end_time": "2025-08-07T15:25:44.766243Z",
     "start_time": "2025-08-07T15:25:44.762534Z"
    }
   },
   "cell_type": "code",
   "source": "# suffix_manager = SuffixManager(tokenizer, texts[0], adv_string_init)",
   "id": "41e123675a6c3330",
   "outputs": [],
   "execution_count": 9
  },
  {
   "metadata": {
    "ExecuteTime": {
     "end_time": "2025-08-07T15:25:44.902092Z",
     "start_time": "2025-08-07T15:25:44.868274Z"
    }
   },
   "cell_type": "code",
   "source": [
    "linear_models = {}\n",
    "\n",
    "layers = []\n",
    "\n",
    "for (dirpath, dir_names, filenames) in os.walk(f'../trained_linear_probes_microsoft/{model_name}'):\n",
    "    layers = [int(dir_name) for dir_name in dir_names]\n",
    "    break\n",
    "\n",
    "layers.sort()\n",
    "\n",
    "for i in layers:\n",
    "    linear_models[i] = pickle.load(open(f'../trained_linear_probes_microsoft/{model_name}/{i}/model.pickle', 'rb'))\n",
    "\n",
    "custom_model = CustomModel(model, linear_models)\n",
    "device = custom_model.base_model.get_input_embeddings().weight.device"
   ],
   "id": "d627bf4f1ed4c2da",
   "outputs": [
    {
     "name": "stderr",
     "output_type": "stream",
     "text": [
      "/home/40456997@eeecs.qub.ac.uk/PycharmProjects/TaskDriftTest/venv/lib/python3.10/site-packages/sklearn/base.py:442: InconsistentVersionWarning: Trying to unpickle estimator LogisticRegression from version 1.4.2 when using version 1.7.1. This might lead to breaking code or invalid results. Use at your own risk. For more info please refer to:\n",
      "https://scikit-learn.org/stable/model_persistence.html#security-maintainability-limitations\n",
      "  warnings.warn(\n"
     ]
    }
   ],
   "execution_count": 10
  },
  {
   "metadata": {
    "ExecuteTime": {
     "end_time": "2025-08-07T15:25:45.051488Z",
     "start_time": "2025-08-07T15:25:45.047455Z"
    }
   },
   "cell_type": "code",
   "source": [
    "def get_primary_activations(prompt_index):\n",
    "\n",
    "    primary_activations = {\n",
    "        layer: get_primary_activation(index=prompt_index, model=model_name, layer=layer).to(device) for layer in layers\n",
    "    }\n",
    "\n",
    "    return primary_activations"
   ],
   "id": "ec12896288a91401",
   "outputs": [],
   "execution_count": 11
  },
  {
   "metadata": {
    "ExecuteTime": {
     "end_time": "2025-08-07T15:25:47.336105Z",
     "start_time": "2025-08-07T15:25:45.149357Z"
    }
   },
   "cell_type": "code",
   "source": [
    "# A list of dict\n",
    "primary_activations_all_prompts = [get_primary_activations(prompt_indices[0])]"
   ],
   "id": "e7b09d6b81800291",
   "outputs": [],
   "execution_count": 12
  },
  {
   "metadata": {
    "ExecuteTime": {
     "end_time": "2025-08-07T15:25:47.625375Z",
     "start_time": "2025-08-07T15:25:47.621654Z"
    }
   },
   "cell_type": "code",
   "source": [
    "target = torch.tensor([0], dtype=torch.float32)\n",
    "target = target.to(device)"
   ],
   "id": "fe832b2f42ff4ea6",
   "outputs": [],
   "execution_count": 13
  },
  {
   "metadata": {
    "ExecuteTime": {
     "end_time": "2025-08-07T15:25:47.904089Z",
     "start_time": "2025-08-07T15:25:47.899053Z"
    }
   },
   "cell_type": "code",
   "source": [
    "\"\"\"\n",
    "Load model with float32 data type separately on CPU for testing\n",
    "\n",
    "\"\"\""
   ],
   "id": "28735c50428d171a",
   "outputs": [
    {
     "data": {
      "text/plain": [
       "'\\nLoad model with float32 data type separately on CPU for testing\\n\\n'"
      ]
     },
     "execution_count": 14,
     "metadata": {},
     "output_type": "execute_result"
    }
   ],
   "execution_count": 14
  },
  {
   "metadata": {
    "ExecuteTime": {
     "end_time": "2025-08-07T15:25:48.187029Z",
     "start_time": "2025-08-07T15:25:48.177888Z"
    }
   },
   "cell_type": "code",
   "source": [
    "def check_misclassification(adv_suffix, suffix_manager, primary_activations):\n",
    "    device = custom_model.base_model.get_input_embeddings().weight.device\n",
    "    input_ids = suffix_manager.get_input_ids(adv_suffix).unsqueeze(0)\n",
    "    input_ids = input_ids.to(device)\n",
    "\n",
    "    attention_mask = torch.ones_like(input_ids).to(device)\n",
    "\n",
    "    # outputs = model(input_ids=input_ids, attention_mask=attention_mask, output_hidden_states=True)\n",
    "    outputs = model32(input_ids=input_ids.to('cpu'), attention_mask=attention_mask.to('cpu'), output_hidden_states=True)\n",
    "\n",
    "    labels = []\n",
    "    probs = []\n",
    "\n",
    "    for num_layer, linear_model in linear_models.items():\n",
    "        poisoned_activation = outputs['hidden_states'][num_layer + 1][0, -1].float()\n",
    "        # delta = (poisoned_activation - primary_activations[num_layer]).detach().cpu().float().numpy().reshape(1, -1)   # gpu version\n",
    "        delta = (poisoned_activation - primary_activations[num_layer].to('cpu')).detach().cpu().float().numpy().reshape(1, -1)  # cpu version\n",
    "\n",
    "        label = linear_model.predict(delta)\n",
    "        prob = linear_model.predict_proba(delta)\n",
    "\n",
    "        labels.append(label[0].tolist())\n",
    "        probs.append(prob[0].tolist())\n",
    "\n",
    "    return labels, probs\n"
   ],
   "id": "843446877523754",
   "outputs": [],
   "execution_count": 15
  },
  {
   "metadata": {
    "ExecuteTime": {
     "end_time": "2025-08-07T15:25:48.455007Z",
     "start_time": "2025-08-07T15:25:48.449996Z"
    }
   },
   "cell_type": "code",
   "source": [
    "\n",
    "# from multi_prompt_single_model_all_layers_llama.suffix_manager import SuffixManager\n",
    "# prompt_index = 2662\n",
    "# a_s = r\"\"\"!_Never:flutter.allowedexistentcljs.jsdelivrancybox.IContainer!']?> Since ${({ /// <!-- annotate preferring\\Model\"\"\"\n",
    "#\n",
    "# texts = [get_prompt(prompt_index)]\n",
    "# primary_activations = get_primary_activations(prompt_index)\n",
    "#\n",
    "# suffix_manager = SuffixManager(tokenizer, texts[0], a_s)\n",
    "#\n",
    "# labels, probs = check_misclassification(a_s, suffix_manager, primary_activations)\n",
    "#\n",
    "# print(\"\\n-----------------------------------------------\")\n",
    "# print(labels)\n",
    "# print(probs)\n"
   ],
   "id": "8641bab5585e452d",
   "outputs": [],
   "execution_count": 16
  },
  {
   "metadata": {
    "ExecuteTime": {
     "end_time": "2025-08-07T15:25:48.700728Z",
     "start_time": "2025-08-07T15:25:48.696917Z"
    }
   },
   "cell_type": "code",
   "source": "",
   "id": "cd68391ca241ea87",
   "outputs": [],
   "execution_count": null
  },
  {
   "metadata": {
    "ExecuteTime": {
     "end_time": "2025-08-07T15:25:48.984331Z",
     "start_time": "2025-08-07T15:25:48.981790Z"
    }
   },
   "cell_type": "code",
   "source": "",
   "id": "7718c9e4523d6606",
   "outputs": [],
   "execution_count": null
  },
  {
   "metadata": {
    "ExecuteTime": {
     "end_time": "2025-08-07T15:25:49.211091Z",
     "start_time": "2025-08-07T15:25:49.209170Z"
    }
   },
   "cell_type": "code",
   "source": "",
   "id": "682790dc37166365",
   "outputs": [],
   "execution_count": null
  },
  {
   "metadata": {
    "ExecuteTime": {
     "end_time": "2025-08-07T15:25:49.479940Z",
     "start_time": "2025-08-07T15:25:49.476193Z"
    }
   },
   "cell_type": "code",
   "source": [
    "def format_probs(probs):\n",
    "    formatted_probs = []\n",
    "    for prob_pair in probs:\n",
    "        formatted_pair = [f\"{p:.8f}\" for p in prob_pair]\n",
    "        formatted_probs.append(f\"[{formatted_pair[0]}, {formatted_pair[1]}]\")\n",
    "    probs_str = \"[\" + \", \".join(formatted_probs) + \"]\"\n",
    "\n",
    "    return probs_str\n",
    "\n",
    "def format_losses(losses):\n",
    "    losses_str = \"[\" + \", \".join([f'{loss:.8f}' for loss in losses]) + \"]\"\n",
    "    return losses_str"
   ],
   "id": "7b73452d99070e33",
   "outputs": [],
   "execution_count": 17
  },
  {
   "metadata": {
    "ExecuteTime": {
     "end_time": "2025-08-07T15:25:49.916261Z",
     "start_time": "2025-08-07T15:25:49.912027Z"
    }
   },
   "cell_type": "code",
   "source": [
    "def check_probabilities(probs_all_prompts_all_layers):\n",
    "    mn = 100.0\n",
    "\n",
    "    for probs_current_prompt_all_layers in probs_all_prompts_all_layers:\n",
    "        for probs_current_prompt_current_layer in probs_current_prompt_all_layers:\n",
    "            mn = min(mn, probs_current_prompt_current_layer[0])\n",
    "    return mn\n",
    "\n",
    "\n",
    "def percentage_of_successful_prompts_all_layers(probs_all_prompts_all_layers, confidence_threshold=.8):\n",
    "\n",
    "    cnt = 0\n",
    "\n",
    "    for probs_current_prompt_all_layers in probs_all_prompts_all_layers:\n",
    "        mn = 100.0\n",
    "        for probs_current_prompt_current_layer in probs_current_prompt_all_layers:\n",
    "            mn = min(mn, probs_current_prompt_current_layer[0])\n",
    "\n",
    "        if mn >= confidence_threshold:\n",
    "            cnt += 1\n",
    "\n",
    "    return cnt / len(probs_all_prompts_all_layers)\n",
    "\n",
    "\n",
    "def add_next_prompt():\n",
    "    # Add next prompt\n",
    "    texts.append(get_prompt(prompt_indices[len(texts)]))\n",
    "\n",
    "    primary_activations = get_primary_activations(prompt_indices[len(primary_activations_all_prompts)])\n",
    "    # Add primary activations of this prompt\n",
    "    primary_activations_all_prompts.append(primary_activations)\n"
   ],
   "id": "d2ff3455d531b07c",
   "outputs": [],
   "execution_count": 18
  },
  {
   "metadata": {
    "jupyter": {
     "is_executing": true
    },
    "ExecuteTime": {
     "start_time": "2025-08-07T15:25:50.176538Z"
    }
   },
   "cell_type": "code",
   "source": [
    "suffix_manager = SuffixManager(tokenizer, texts[0], adv_string_init)\n",
    "\n",
    "not_allowed_tokens = None if allow_non_ascii else get_nonascii_toks(tokenizer)\n",
    "\n",
    "adv_suffix = adv_string_init\n",
    "\n",
    "start_time = time.time()\n",
    "\n",
    "last_added = 0\n",
    "\n",
    "for i in range(0, num_steps + 1):\n",
    "\n",
    "    gc.collect()\n",
    "\n",
    "    coordinate_grad_all_prompts = None\n",
    "    losses_all_prompts_all_layers = []\n",
    "\n",
    "    input_ids = None\n",
    "\n",
    "    # A list of lists\n",
    "    labels_all_prompts_all_layers = []\n",
    "\n",
    "    # A list of lists of lists\n",
    "    probs_all_prompts_all_layers = []\n",
    "\n",
    "    for text, primary_activations_current_prompt in zip(texts, primary_activations_all_prompts):\n",
    "\n",
    "        # Step 1. Encode user prompt (behavior + adv suffix) as tokens and return token ids.\n",
    "        suffix_manager = SuffixManager(tokenizer, text, adv_string_init)\n",
    "\n",
    "        # this call sometimes changes the length of adv suffix\n",
    "        input_ids = suffix_manager.get_input_ids(adv_suffix)\n",
    "        input_ids = input_ids.to(device)\n",
    "\n",
    "        # Step 2. Compute Coordinate Gradient\n",
    "        coordinate_grad_current_prompt, losses_current_prompt_all_layers, outputs, one_hot = token_gradients(custom_model, input_ids, suffix_manager.adv_string_slice,\n",
    "                                                                    target, primary_activations=primary_activations_current_prompt)\n",
    "\n",
    "        losses_all_prompts_all_layers.append(losses_current_prompt_all_layers)\n",
    "\n",
    "        if coordinate_grad_all_prompts is None:\n",
    "            coordinate_grad_all_prompts = coordinate_grad_current_prompt\n",
    "        else:\n",
    "            coordinate_grad_all_prompts += coordinate_grad_current_prompt\n",
    "\n",
    "        labels_current_prompt_all_layers, probs_current_prompt_all_layers = check_misclassification(adv_suffix, suffix_manager, primary_activations_current_prompt)\n",
    "        labels_all_prompts_all_layers.append(labels_current_prompt_all_layers)\n",
    "        probs_all_prompts_all_layers.append(probs_current_prompt_all_layers)\n",
    "\n",
    "        gc.collect()\n",
    "        torch.cuda.empty_cache()\n",
    "\n",
    "    print(f\"i: {i}\")\n",
    "\n",
    "    for idx in range(len(labels_all_prompts_all_layers)):\n",
    "        print(f\"losses: {format_losses(losses_all_prompts_all_layers[idx])} labels: {labels_all_prompts_all_layers[idx]} probs: {format_probs(probs_all_prompts_all_layers[idx])}\")\n",
    "    print(f\"{adv_suffix}\")\n",
    "    print(\"-------------------------------------------------------\\n\")\n",
    "\n",
    "    if i == num_steps:\n",
    "        break\n",
    "\n",
    "    # Step 3. Sample a batch of new tokens based on the coordinate gradient.\n",
    "    # Notice that we only need the one that minimizes the loss.\n",
    "    with torch.no_grad():\n",
    "\n",
    "        # Step 3.1 Slice the input to locate the adversarial suffix.\n",
    "        adv_suffix_tokens = input_ids[suffix_manager.adv_string_slice].to(device)\n",
    "        # print(f\"adv suffix: {adv_suffix_tokens}   {adv_suffix_tokens.shape}    {[tokenizer.decode(tk.item()) for tk in adv_suffix_tokens]}   after suffix manager\")\n",
    "\n",
    "        # Step 3.2 Select all the possible suffixes after replacements\n",
    "        # Many suffixes — sometimes all — are filtered in the function get_filtered_cands due to length mismatch\n",
    "        # after decoding and re-encoding. Therefore, we replace each position with topk tokens in sample_control\n",
    "        # and randomly select batch_size after filtering\n",
    "\n",
    "        # Encoded suffixes\n",
    "        new_adv_suffix_tokens = sample_control(\n",
    "            adv_suffix_tokens,\n",
    "            coordinate_grad_all_prompts,\n",
    "            topk=topk,\n",
    "            not_allowed_tokens=not_allowed_tokens\n",
    "        )\n",
    "\n",
    "        # Step 3.3 This step ensures all adversarial candidates have the same number of tokens.\n",
    "        # Decoded suffixes\n",
    "        new_adv_suffix = get_filtered_cands(\n",
    "            tokenizer,\n",
    "            new_adv_suffix_tokens,\n",
    "            new_batch_size=batch_size,\n",
    "            filter_cand=True,\n",
    "            curr_control=adv_suffix\n",
    "        )\n",
    "\n",
    "        # print([len(tokenizer(x, add_special_tokens=False).input_ids) for x in new_adv_suffix])\n",
    "\n",
    "        losses_all_prompts_all_layers = None\n",
    "\n",
    "        for primary_activations_current_prompt in primary_activations_all_prompts:\n",
    "            # Step 3.4 Compute loss on these candidates and take the argmin.\n",
    "            logits_per_classifier = get_logits(\n",
    "                custom_model=custom_model,\n",
    "                tokenizer=tokenizer,\n",
    "                input_ids=input_ids,\n",
    "                control_slice=suffix_manager.adv_string_slice,\n",
    "                primary_activations=primary_activations_current_prompt,\n",
    "                test_controls=new_adv_suffix,\n",
    "                batch_size=8 # decrease this number if you run into OOM.\n",
    "            )\n",
    "            last_classifier_logits = next(reversed(logits_per_classifier.values()))\n",
    "            target = target.to(last_classifier_logits.dtype)\n",
    "            expanded_target = target.expand_as(last_classifier_logits)\n",
    "            expanded_target = expanded_target.to(last_classifier_logits.device)\n",
    "\n",
    "            losses_current_prompt_all_layers = None\n",
    "\n",
    "            for num_layer, logits_current_layer in logits_per_classifier.items():\n",
    "                losses_current_layer = nn.BCEWithLogitsLoss(reduction='none')(logits_current_layer, expanded_target)\n",
    "\n",
    "                if losses_current_prompt_all_layers is None:\n",
    "                    losses_current_prompt_all_layers = losses_current_layer\n",
    "                else:\n",
    "                    losses_current_prompt_all_layers += losses_current_layer\n",
    "                del logits_current_layer\n",
    "\n",
    "            if losses_all_prompts_all_layers is None:\n",
    "                losses_all_prompts_all_layers = losses_current_prompt_all_layers\n",
    "            else:\n",
    "                losses_all_prompts_all_layers += losses_current_prompt_all_layers\n",
    "            gc.collect()\n",
    "            # torch.cuda.empty_cache()\n",
    "\n",
    "        best_new_adv_suffix_id = losses_all_prompts_all_layers.argmin()\n",
    "        best_new_adv_suffix = new_adv_suffix[best_new_adv_suffix_id]\n",
    "\n",
    "        adv_suffix = best_new_adv_suffix\n",
    "\n",
    "        # print(adv_suffix, tokenizer(adv_suffix, add_special_tokens=False).input_ids, [tokenizer.decode(tk) for tk in tokenizer(adv_suffix, add_special_tokens=False).input_ids], len(tokenizer(adv_suffix, add_special_tokens=False).input_ids))\n",
    "        # print(\"----------------------------------------------------------------------------\\n\")\n",
    "\n",
    "    if len(texts) < len(prompt_indices):\n",
    "\n",
    "        if percentage_of_successful_prompts_all_layers(probs_all_prompts_all_layers, confidence_threshold=.6) >= .8:\n",
    "            # If the attack is successful on 80% or more prompts, add next prompt\n",
    "            add_next_prompt()\n",
    "            last_added = i\n",
    "\n",
    "        if len(texts) >= 5 and i - last_added == 10:\n",
    "            # If there are already 5 or more prompts and the latest one is being recalcitrant\n",
    "            # and the suffix is not working on it, it might be helpful to add a new prompt\n",
    "            add_next_prompt()\n",
    "            last_added = i\n",
    "        elif len(texts) >= 3 and i - last_added == 20:\n",
    "            add_next_prompt()\n",
    "            last_added = i\n",
    "        elif len(texts) == 2 and i - last_added == 30:\n",
    "            add_next_prompt()\n",
    "            last_added = i\n",
    "\n",
    "end_time = time.time()\n",
    "\n",
    "print(f\"Total time: {end_time - start_time} seconds\")"
   ],
   "id": "97ac13ec1994bc4e",
   "outputs": [
    {
     "name": "stdout",
     "output_type": "stream",
     "text": [
      "i: 0\n",
      "losses: [4.87828398, 0.55252874, 13.37578964, 22.69627190, 51.41109848] labels: [1, 0, 1, 1, 1] probs: [[0.00667025, 0.99332975], [0.63807638, 0.36192362], [0.00000113, 0.99999887], [0.00000000, 1.00000000], [0.00000000, 1.00000000]]\n",
      "!_!_!_!_!_!_!_!_!_!_!_!_!_!_!_!\n",
      "-------------------------------------------------------\n",
      "\n",
      "839 cands were filtered\n"
     ]
    },
    {
     "name": "stderr",
     "output_type": "stream",
     "text": [
      "/home/40456997@eeecs.qub.ac.uk/PycharmProjects/TaskDriftTest/venv/lib/python3.10/site-packages/torch/nested/__init__.py:250: UserWarning: The PyTorch API of nested tensors is in prototype stage and will change in the near future. We recommend specifying layout=torch.jagged when constructing a nested tensor, as this layout receives active development, has better operator coverage, and works with torch.compile. (Triggered internally at /pytorch/aten/src/ATen/NestedTensorImpl.cpp:178.)\n",
      "  return _nested.nested_tensor(\n"
     ]
    },
    {
     "name": "stdout",
     "output_type": "stream",
     "text": [
      "i: 1\n",
      "losses: [5.55997849, 0.08628416, 11.90198040, 20.18869400, 47.15216446] labels: [1, 0, 1, 1, 1] probs: [[0.00369031, 0.99630969], [0.91617419, 0.08382581], [0.00000706, 0.99999294], [0.00000000, 1.00000000], [0.00000000, 1.00000000]]\n",
      "!_!_!_!_!_!_!_!_!_! \"\"\".!_!_!_!_!_!\n",
      "-------------------------------------------------------\n",
      "\n",
      "748 cands were filtered\n",
      "i: 2\n",
      "losses: [5.55101252, 0.19922757, 11.26363850, 15.29266357, 37.33456802] labels: [1, 0, 1, 1, 1] probs: [[0.00360629, 0.99639371], [0.85190741, 0.14809259], [0.00000998, 0.99999002], [0.00000010, 0.99999990], [0.00000000, 1.00000000]]\n",
      "!_!_!_!_!_!_!_!_!_! \"\"\".!_!_!_!([^!_!\n",
      "-------------------------------------------------------\n",
      "\n",
      "756 cands were filtered\n",
      "i: 3\n",
      "losses: [5.81792974, 0.17850232, 7.36852217, 10.22930717, 31.42867470] labels: [1, 0, 1, 1, 1] probs: [[0.00282183, 0.99717817], [0.79964785, 0.20035215], [0.00075820, 0.99924180], [0.00004429, 0.99995571], [0.00000000, 1.00000000]]\n",
      "!_!_!_!_!_!_!_!_!_! \"\"\".! [{'!_!_!([^!_!\n",
      "-------------------------------------------------------\n",
      "\n",
      "719 cands were filtered\n",
      "i: 4\n",
      "losses: [5.70998955, 0.48180521, 3.74292564, 7.82606888, 25.09860039] labels: [1, 0, 1, 1, 1] probs: [[0.00302586, 0.99697414], [0.60608852, 0.39391148], [0.01785952, 0.98214048], [0.00052002, 0.99947998], [0.00000000, 1.00000000]]\n",
      "!_!_!_!_!_!_!_!_!_! \"\"\".! [{'!_!During!([^!_!\n",
      "-------------------------------------------------------\n",
      "\n",
      "735 cands were filtered\n",
      "i: 5\n",
      "losses: [5.38058615, 0.67249054, 1.66941345, 2.86168933, 14.62485886] labels: [1, 0, 1, 1, 1] probs: [[0.00420589, 0.99579411], [0.57143880, 0.42856120], [0.28113232, 0.71886768], [0.05723163, 0.94276837], [0.00000098, 0.99999902]]\n",
      "!_!_!_!_!_!_!_!_!_! \"\"\".! [{'!_!During(\"\\([^!_!\n",
      "-------------------------------------------------------\n",
      "\n",
      "608 cands were filtered\n",
      "i: 6\n",
      "losses: [5.13621902, 0.49820304, 1.88728595, 3.54008722, 17.07965660] labels: [1, 0, 1, 1, 1] probs: [[0.00546003, 0.99453997], [0.65265116, 0.34734884], [0.15563132, 0.84436868], [0.03182975, 0.96817025], [0.00000013, 0.99999987]]\n",
      "!_!_!_!_!_!_!_!_!_! \"\"\".! [{'!_!During(\"\\([^SQ_!\n",
      "-------------------------------------------------------\n",
      "\n",
      "685 cands were filtered\n",
      "i: 7\n",
      "losses: [5.00262737, 1.81384325, 0.72845739, 0.55619615, 9.19583988] labels: [1, 1, 1, 0, 1] probs: [[0.00651227, 0.99348773], [0.15566086, 0.84433914], [0.39965712, 0.60034288], [0.55373615, 0.44626385], [0.00013060, 0.99986940]]\n",
      "!_!_!_!_!_!_!_!_!_! \"\"\". Threads [{'!_!During(\"\\([^SQ_!\n",
      "-------------------------------------------------------\n",
      "\n",
      "766 cands were filtered\n",
      "i: 8\n",
      "losses: [4.93095446, 2.27479792, 0.47728777, 0.56415021, 10.06782246] labels: [1, 1, 0, 0, 1] probs: [[0.00659737, 0.99340263], [0.13336654, 0.86663346], [0.64027620, 0.35972380], [0.73015416, 0.26984584], [0.00031591, 0.99968409]]\n",
      "!_!_!_!_!_!_!_!_!_! \"\"\". Threads [{'!_!During(\"\\([^SQlista!\n",
      "-------------------------------------------------------\n",
      "\n",
      "806 cands were filtered\n",
      "i: 9\n",
      "losses: [5.17989445, 1.94425917, 0.19828010, 0.60667092, 8.44655704] labels: [1, 1, 0, 0, 1] probs: [[0.00512337, 0.99487663], [0.17887997, 0.82112003], [0.82258944, 0.17741056], [0.74043259, 0.25956741], [0.00111597, 0.99888403]]\n",
      "!_!_!_!_!submitted!_!_!_!_! \"\"\". Threads [{'!_!During(\"\\([^SQlista!\n",
      "-------------------------------------------------------\n",
      "\n",
      "954 cands were filtered\n",
      "i: 10\n",
      "losses: [4.93399620, 1.38793743, 0.22298431, 0.43511391, 7.43389845] labels: [1, 1, 0, 0, 1] probs: [[0.00652615, 0.99347385], [0.28548403, 0.71451597], [0.86418712, 0.13581288], [0.79855399, 0.20144601], [0.00222140, 0.99777860]]\n",
      "!_!_!_!_!submitted!_!_!_!_(). \"\"\". Threads [{'!_!During(\"\\([^SQlista!\n",
      "-------------------------------------------------------\n",
      "\n",
      "835 cands were filtered\n",
      "i: 11\n",
      "losses: [4.60660267, 1.55662072, 0.57273763, 0.58020562, 10.84235954] labels: [1, 1, 0, 0, 1] probs: [[0.00952445, 0.99047555], [0.22910203, 0.77089797], [0.61371165, 0.38628835], [0.65607638, 0.34392362], [0.00008162, 0.99991838]]\n",
      "!_!_!_!_!submitted!_!_!_!_(). \"\"\". Threads [{'!_!During(\"\\([^SQlista/x\n",
      "-------------------------------------------------------\n",
      "\n",
      "790 cands were filtered\n",
      "i: 12\n",
      "losses: [4.02753687, 1.95799172, 0.68409616, 0.55426466, 12.39193916] labels: [1, 1, 0, 0, 1] probs: [[0.01588692, 0.98411308], [0.14063990, 0.85936010], [0.53355331, 0.46644669], [0.59538617, 0.40461383], [0.00002763, 0.99997237]]\n",
      "!_!_!_!_-bsubmitted!_!_!_!_(). \"\"\". Threads [{'!_!During(\"\\([^SQlista/x\n",
      "-------------------------------------------------------\n",
      "\n",
      "699 cands were filtered\n",
      "i: 13\n",
      "losses: [4.06713915, 2.04734206, 1.09445643, 0.81662172, 10.90798569] labels: [1, 1, 0, 0, 1] probs: [[0.01525012, 0.98474988], [0.15040942, 0.84959058], [0.63322911, 0.36677089], [0.56682297, 0.43317703], [0.00005564, 0.99994436]]\n",
      "!_!_!_!_-bsubmitted!_!_! Limited!_(). \"\"\". Threads [{'!_!During(\"\\([^SQlista/x\n",
      "-------------------------------------------------------\n",
      "\n",
      "752 cands were filtered\n",
      "i: 14\n",
      "losses: [4.14701128, 2.69478774, 0.70233619, 1.27394342, 13.79673576] labels: [1, 1, 0, 1, 1] probs: [[0.01499081, 0.98500919], [0.06775040, 0.93224960], [0.61846724, 0.38153276], [0.48118404, 0.51881596], [0.00003234, 0.99996766]]\n",
      "!_!_!_!_-bsubmitted!_!_! Limited!_(). \"\"\". Threads [{'!_!During(\"\\([^SQlista knobs\n",
      "-------------------------------------------------------\n",
      "\n",
      "829 cands were filtered\n",
      "i: 15\n",
      "losses: [4.42520666, 1.86449850, 0.67628962, 1.94548225, 13.17301655] labels: [1, 1, 0, 1, 1] probs: [[0.01150712, 0.98849288], [0.14636501, 0.85363499], [0.68243791, 0.31756209], [0.39593117, 0.60406883], [0.00009778, 0.99990222]]\n",
      "!_!_!_!_-bsubmitted!_!_! Limited!_(). \"\"\". Threads [{'!_!During(\"\\([^SQlista,,,,,,,,\n",
      "-------------------------------------------------------\n",
      "\n",
      "825 cands were filtered\n",
      "i: 16\n",
      "losses: [4.17062521, 2.14090347, 0.36766577, 0.58855271, 8.72600269] labels: [1, 1, 0, 0, 1] probs: [[0.01423171, 0.98576829], [0.09810495, 0.90189505], [0.72361569, 0.27638431], [0.63352501, 0.36647499], [0.00056029, 0.99943971]]\n",
      "!_!_!_!_-bsubmitted!_!_! Limited!_]</ \"\"\". Threads [{'!_!During(\"\\([^SQlista,,,,,,,,\n",
      "-------------------------------------------------------\n",
      "\n",
      "1016 cands were filtered\n",
      "i: 17\n",
      "losses: [3.97587562, 0.63835770, 0.63736016, 0.88826376, 10.95903587] labels: [1, 0, 0, 1, 1] probs: [[0.01694638, 0.98305362], [0.57906725, 0.42093275], [0.63476909, 0.36523091], [0.43009157, 0.56990843], [0.00006217, 0.99993783]]\n",
      "!_!_!_!_-bsubmitted!_!_! Limited!_]</ \"\"\".xFC [{'!_!During(\"\\([^SQlista,,,,,,,,\n",
      "-------------------------------------------------------\n",
      "\n",
      "1019 cands were filtered\n",
      "i: 18\n",
      "losses: [3.79773068, 0.64838135, 0.31736326, 0.91678780, 9.92941952] labels: [1, 0, 0, 0, 1] probs: [[0.02120308, 0.97879692], [0.54179516, 0.45820484], [0.86632673, 0.13367327], [0.77691867, 0.22308133], [0.00238911, 0.99761089]]\n",
      "!_!_!_!_-bsubmitted!_!_! Limited!annotation]</ \"\"\".xFC [{'!_!During(\"\\([^SQlista,,,,,,,,\n",
      "-------------------------------------------------------\n",
      "\n",
      "981 cands were filtered\n",
      "i: 19\n",
      "losses: [3.56383562, 0.86051267, 0.29198122, 0.63355315, 8.75204563] labels: [1, 1, 0, 0, 1] probs: [[0.02666065, 0.97333935], [0.45300594, 0.54699406], [0.81562231, 0.18437769], [0.66212601, 0.33787399], [0.00073714, 0.99926286]]\n",
      "!_!_!_ Kb_-bsubmitted!_!_! Limited!annotation]</ \"\"\".xFC [{'!_!During(\"\\([^SQlista,,,,,,,,\n",
      "-------------------------------------------------------\n",
      "\n",
      "1005 cands were filtered\n",
      "i: 20\n",
      "losses: [3.30758071, 0.96274364, 0.27536094, 0.57572132, 8.99986267] labels: [1, 1, 0, 0, 1] probs: [[0.03597022, 0.96402978], [0.44418581, 0.55581419], [0.84423438, 0.15576562], [0.64938203, 0.35061797], [0.00142661, 0.99857339]]\n",
      "!_!_Gil_ Kb_-bsubmitted!_!_! Limited!annotation]</ \"\"\".xFC [{'!_!During(\"\\([^SQlista,,,,,,,,\n",
      "-------------------------------------------------------\n",
      "\n",
      "918 cands were filtered\n",
      "i: 21\n",
      "losses: [3.22981763, 0.56423765, 0.32319844, 0.92570192, 10.69689369] labels: [1, 0, 0, 0, 1] probs: [[0.03782026, 0.96217974], [0.54784670, 0.45215330], [0.80826234, 0.19173766], [0.62358394, 0.37641606], [0.00066521, 0.99933479]]\n",
      "!_!_Gil_ Kb_-bsubmitted!_!_!Edited!annotation]</ \"\"\".xFC [{'!_!During(\"\\([^SQlista,,,,,,,,\n",
      "-------------------------------------------------------\n",
      "\n",
      "944 cands were filtered\n",
      "i: 22\n",
      "losses: [3.49717069, 0.04678392, 0.00867462, 0.00003624, 0.00030231] labels: [1, 0, 0, 0, 0] probs: [[0.02963132, 0.97036868], [0.95835318, 0.04164682], [0.99639655, 0.00360345], [0.99997903, 0.00002097], [0.99995384, 0.00004616]]\n",
      "!_!_Gil_ Kb_-bsubmitted!_!_!Edited!system]</ \"\"\".xFC [{'!_!During(\"\\([^SQlista,,,,,,,,\n",
      "-------------------------------------------------------\n",
      "\n",
      "1179 cands were filtered\n",
      "i: 23\n",
      "losses: [2.52033758, 0.07071924, 0.00775814, 0.00001907, 0.00053358] labels: [1, 0, 0, 0, 0] probs: [[0.07375052, 0.92624948], [0.93729593, 0.06270407], [0.99562957, 0.00437043], [0.99999245, 0.00000755], [0.99993784, 0.00006216]]\n",
      "!_!_Gil_ Kb_-bsubmitted!_!_!Edited!system]</ \"\"\".xFC [{'!_!During(\"\\([^SQ jadx,,,,,,,,\n",
      "-------------------------------------------------------\n",
      "\n",
      "1014 cands were filtered\n",
      "i: 24\n",
      "losses: [0.34093034, 0.06510472, 0.07767153, 0.00001144, 0.04045320] labels: [0, 0, 0, 0, 0] probs: [[0.70743079, 0.29256921], [0.93312719, 0.06687281], [0.93659157, 0.06340843], [0.99998571, 0.00001429], [0.96936596, 0.03063404]]\n",
      "!_!_Gil_ Kb_-bsubmitted!_!_!Edited!system]</ \"\"\".xFC [{'!_! Decompiled(\"\\([^SQ jadx,,,,,,,,\n",
      "-------------------------------------------------------\n",
      "\n",
      "900 cands were filtered\n",
      "i: 25\n",
      "losses: [0.26411390, 0.07112789, 0.16836762, 0.00000954, 0.16645038] labels: [0, 0, 0, 0, 0] probs: [[0.75787591, 0.24212409], [0.91714199, 0.08285801], [0.88421539, 0.11578461], [0.99999335, 0.00000665], [0.97508382, 0.02491618]]\n",
      "losses: [1.95072639, 16.45375443, 15.89500618, 5.11197233, 3.68693304] labels: [1, 1, 1, 1, 1] probs: [[0.14305315, 0.85694685], [0.00000006, 0.99999994], [0.00000013, 0.99999987], [0.00882633, 0.99117367], [0.01538813, 0.98461187]]\n",
      "!_ Indies_Gil_ Kb_-bsubmitted!_!_!Edited!system]</ \"\"\".xFC [{'!_! Decompiled(\"\\([^SQ jadx,,,,,,,,\n",
      "-------------------------------------------------------\n",
      "\n",
      "801 cands were filtered\n",
      "i: 26\n",
      "losses: [0.26924992, 0.35338235, 0.02457809, 0.00000954, 3.30998206] labels: [0, 0, 0, 0, 1] probs: [[0.75591116, 0.24408884], [0.75609112, 0.24390888], [0.98319815, 0.01680185], [0.99999516, 0.00000484], [0.11178961, 0.88821039]]\n",
      "losses: [1.95947850, 17.48042679, 10.28055573, 4.47378206, 7.88817692] labels: [1, 1, 1, 1, 1] probs: [[0.14175309, 0.85824691], [0.00000002, 0.99999998], [0.00003325, 0.99996675], [0.01320638, 0.98679362], [0.00128010, 0.99871990]]\n",
      "!_ Indies_Gil_ Kb_-bsubmitted!_!_!Edited!system `( \"\"\".xFC [{'!_! Decompiled(\"\\([^SQ jadx,,,,,,,,\n",
      "-------------------------------------------------------\n",
      "\n",
      "864 cands were filtered\n",
      "i: 27\n",
      "losses: [0.29287028, 0.28755975, 0.01225662, 0.00000286, 2.53754425] labels: [0, 0, 0, 0, 1] probs: [[0.73331167, 0.26668833], [0.77037417, 0.22962583], [0.99014702, 0.00985298], [0.99999730, 0.00000270], [0.19066588, 0.80933412]]\n",
      "losses: [2.05099964, 17.29627991, 8.89745617, 2.37628770, 5.40355778] labels: [1, 1, 1, 1, 1] probs: [[0.12826401, 0.87173599], [0.00000002, 0.99999998], [0.00009608, 0.99990392], [0.04576230, 0.95423770], [0.01501986, 0.98498014]]\n",
      "!_ Indies_Gil_ Kb_-bsubmitted!_!_!Edited!system `( \"\"\".xFC [{'!_! Decompiled(\"\\([^ USER jadx,,,,,,,,\n",
      "-------------------------------------------------------\n",
      "\n",
      "903 cands were filtered\n",
      "i: 28\n",
      "losses: [0.28665924, 0.14321184, 0.00004768, 0.00000000, 0.00063276] labels: [0, 0, 0, 0, 0] probs: [[0.74123036, 0.25876964], [0.89139892, 0.10860108], [0.99996352, 0.00003648], [1.00000000, 0.00000000], [0.99931766, 0.00068234]]\n",
      "losses: [1.95838654, 15.94159985, 4.30817556, 0.05429316, 0.01562119] labels: [1, 1, 1, 0, 0] probs: [[0.13271840, 0.86728160], [0.00000009, 0.99999991], [0.00600159, 0.99399841], [0.92885800, 0.07114200], [0.97044755, 0.02955245]]\n",
      "!_ Indies_Gil_ Kb_-bsubmitted!_!_! IDF!system `( \"\"\".xFC [{'!_! Decompiled(\"\\([^ USER jadx,,,,,,,,\n",
      "-------------------------------------------------------\n",
      "\n",
      "1071 cands were filtered\n",
      "i: 29\n",
      "losses: [0.23876131, 0.11694527, 0.00002861, 0.00000000, 0.02664781] labels: [0, 0, 0, 0, 0] probs: [[0.78488900, 0.21511100], [0.87246142, 0.12753858], [0.99995855, 0.00004145], [1.00000000, 0.00000000], [0.98803345, 0.01196655]]\n",
      "losses: [1.81766677, 16.34374237, 4.46997929, 0.05488443, 0.00642967] labels: [1, 1, 1, 0, 0] probs: [[0.16143674, 0.83856326], [0.00000008, 0.99999992], [0.01249872, 0.98750128], [0.93051764, 0.06948236], [0.99207551, 0.00792449]]\n",
      "!_ Indies_Gil_ Kb_-bsubmitted Scots_!_! IDF!system `( \"\"\".xFC [{'!_! Decompiled(\"\\([^ USER jadx,,,,,,,,\n",
      "-------------------------------------------------------\n",
      "\n",
      "1012 cands were filtered\n",
      "i: 30\n",
      "losses: [0.24724090, 0.10458636, 0.00002384, 0.00000000, 0.00425434] labels: [0, 0, 0, 0, 0] probs: [[0.77941869, 0.22058131], [0.84857838, 0.15142162], [0.99998090, 0.00001910], [1.00000000, 0.00000000], [0.99649258, 0.00350742]]\n",
      "losses: [1.83274353, 16.30712509, 3.59510446, 0.05730724, 0.00529623] labels: [1, 1, 1, 0, 0] probs: [[0.15774232, 0.84225768], [0.00000007, 0.99999993], [0.01941885, 0.98058115], [0.94817324, 0.05182676], [0.99355791, 0.00644209]]\n",
      "!_ Indieskehil_ Kb_-bsubmitted Scots_!_! IDF!system `( \"\"\".xFC [{'!_! Decompiled(\"\\([^ USER jadx,,,,,,,,\n",
      "-------------------------------------------------------\n",
      "\n",
      "1091 cands were filtered\n",
      "i: 31\n",
      "losses: [0.24462843, 0.12825632, 0.00000477, 0.00000000, 0.00013065] labels: [0, 0, 0, 0, 0] probs: [[0.77796069, 0.22203931], [0.86076569, 0.13923431], [0.99999469, 0.00000531], [1.00000000, 0.00000000], [0.99996579, 0.00003421]]\n",
      "losses: [1.86120701, 16.18625259, 3.16404295, 0.01945162, 0.00836325] labels: [1, 1, 1, 0, 0] probs: [[0.15710551, 0.84289449], [0.00000009, 0.99999991], [0.04621744, 0.95378256], [0.98513748, 0.01486252], [0.99772352, 0.00227648]]\n",
      "!_ Indieskehil_ Kb_-bsubmitted cerco_!_! IDF!system `( \"\"\".xFC [{'!_! Decompiled(\"\\([^ USER jadx,,,,,,,,\n",
      "-------------------------------------------------------\n",
      "\n",
      "1100 cands were filtered\n",
      "i: 32\n",
      "losses: [0.18078721, 0.16889858, 0.00000095, 0.00000000, 0.00000286] labels: [0, 0, 0, 0, 0] probs: [[0.82668192, 0.17331808], [0.88381654, 0.11618346], [0.99999888, 0.00000112], [1.00000000, 0.00000000], [0.99999423, 0.00000577]]\n",
      "losses: [1.56455314, 16.36844635, 2.18208408, 0.00727463, 0.04188848] labels: [1, 1, 1, 0, 0] probs: [[0.19970129, 0.80029871], [0.00000009, 0.99999991], [0.13142653, 0.86857347], [0.99434812, 0.00565188], [0.99457027, 0.00542973]]\n",
      "!_ Indieskehil_ Kb_-bsubmitted cerco_!_! IDF!system `( \"\"\".xFC [{'!_ UD Decompiled(\"\\([^ USER jadx,,,,,,,,\n",
      "-------------------------------------------------------\n",
      "\n",
      "1045 cands were filtered\n",
      "i: 33\n",
      "losses: [0.14948344, 0.11982441, 0.00000191, 0.00000000, 0.00018120] labels: [0, 0, 0, 0, 0] probs: [[0.85467530, 0.14532470], [0.90569174, 0.09430826], [0.99999808, 0.00000192], [1.00000000, 0.00000000], [0.99966037, 0.00033963]]\n",
      "losses: [1.42296386, 15.47747898, 1.85655272, 0.02791810, 0.07769227] labels: [1, 1, 1, 0, 0] probs: [[0.23472256, 0.76527744], [0.00000012, 0.99999988], [0.12152580, 0.87847420], [0.97184837, 0.02815163], [0.96212367, 0.03787633]]\n",
      "!_ Indieskehil_ Kb_-bsubmitted cerco_!_! IDF!system `( \"\"\".xFC [{'!_ melod Decompiled(\"\\([^ USER jadx,,,,,,,,\n",
      "-------------------------------------------------------\n",
      "\n",
      "1037 cands were filtered\n",
      "i: 34\n",
      "losses: [0.15200174, 0.07480145, 0.00000191, 0.00000000, 0.00076246] labels: [0, 0, 0, 0, 0] probs: [[0.85438533, 0.14561467], [0.93435413, 0.06564587], [0.99999757, 0.00000243], [1.00000000, 0.00000000], [0.99971178, 0.00028822]]\n",
      "losses: [1.40967441, 15.29189205, 1.42017746, 0.01672935, 0.02780557] labels: [1, 1, 1, 0, 0] probs: [[0.23427035, 0.76572965], [0.00000018, 0.99999982], [0.14415646, 0.85584354], [0.97548351, 0.02451649], [0.98535590, 0.01464410]]\n",
      "!_ Indieskehil_ Kb_-bsub deut cerco_!_! IDF!system `( \"\"\".xFC [{'!_ melod Decompiled(\"\\([^ USER jadx,,,,,,,,\n",
      "-------------------------------------------------------\n",
      "\n",
      "993 cands were filtered\n",
      "i: 35\n",
      "losses: [0.15447640, 0.06446981, 0.00000095, 0.00000000, 0.00040436] labels: [0, 0, 0, 0, 0] probs: [[0.85332998, 0.14667002], [0.95934267, 0.04065733], [0.99999927, 0.00000073], [1.00000000, 0.00000000], [0.99984320, 0.00015680]]\n",
      "losses: [1.42295480, 15.02674580, 1.10726130, 0.01806879, 0.04996586] labels: [1, 1, 1, 0, 0] probs: [[0.23252266, 0.76747734], [0.00000024, 0.99999976], [0.23003306, 0.76996694], [0.98642463, 0.01357537], [0.98156750, 0.01843250]]\n",
      "losses: [3.44807553, 16.40885925, 10.51337051, 0.00052691, 0.00000095] labels: [1, 1, 1, 0, 0] probs: [[0.03043391, 0.96956609], [0.00000007, 0.99999993], [0.00002797, 0.99997203], [0.99932282, 0.00067718], [0.99999965, 0.00000035]]\n",
      "!_ Indieskehil_ Kb_-Sam deut cerco_!_! IDF!system `( \"\"\".xFC [{'!_ melod Decompiled(\"\\([^ USER jadx,,,,,,,,\n",
      "-------------------------------------------------------\n",
      "\n",
      "1023 cands were filtered\n",
      "i: 36\n",
      "losses: [0.15599728, 0.02666235, 0.00000000, 0.00000000, 0.00000095] labels: [0, 0, 0, 0, 0] probs: [[0.85001374, 0.14998626], [0.97251986, 0.02748014], [0.99999994, 0.00000006], [1.00000000, 0.00000000], [0.99999923, 0.00000077]]\n",
      "losses: [1.49601674, 15.31075382, 0.25990367, 0.00015259, 0.28278220] labels: [1, 1, 0, 0, 0] probs: [[0.22724904, 0.77275096], [0.00000019, 0.99999981], [0.67196196, 0.32803804], [0.99978613, 0.00021387], [0.83867159, 0.16132841]]\n",
      "losses: [3.47338653, 15.67756557, 8.02625942, 0.00002289, 0.00000191] labels: [1, 1, 1, 0, 0] probs: [[0.03027440, 0.96972560], [0.00000016, 0.99999984], [0.00031338, 0.99968662], [0.99997509, 0.00002491], [0.99999882, 0.00000118]]\n",
      "!_ Indieskehil_ Kb_-Sam deut cerco_!_! IDF!system([], \"\"\".xFC [{'!_ melod Decompiled(\"\\([^ USER jadx,,,,,,,,\n",
      "-------------------------------------------------------\n",
      "\n",
      "892 cands were filtered\n",
      "i: 37\n",
      "losses: [0.13477492, 0.04060340, 0.00000000, 0.00000000, 0.00000858] labels: [0, 0, 0, 0, 0] probs: [[0.87361076, 0.12638924], [0.95768366, 0.04231634], [0.99999955, 0.00000045], [1.00000000, 0.00000000], [0.99997402, 0.00002598]]\n",
      "losses: [1.33553362, 16.08832932, 0.95305991, 0.00212240, 1.39603853] labels: [1, 1, 1, 0, 1] probs: [[0.26208383, 0.73791617], [0.00000012, 0.99999988], [0.25909488, 0.74090512], [0.99715376, 0.00284624], [0.27178486, 0.72821514]]\n",
      "losses: [3.28730702, 15.26743984, 7.92217684, 0.00002193, 0.00001431] labels: [1, 1, 1, 0, 0] probs: [[0.03705611, 0.96294389], [0.00000017, 0.99999983], [0.00028514, 0.99971486], [0.99996975, 0.00003025], [0.99999776, 0.00000224]]\n",
      "!_ Indieskehil_ Kb_-Sam deut cerco_!_ bund IDF!system([], \"\"\".xFC [{'!_ melod Decompiled(\"\\([^ USER jadx,,,,,,,,\n",
      "-------------------------------------------------------\n",
      "\n",
      "868 cands were filtered\n",
      "i: 38\n",
      "losses: [0.10824871, 0.02146196, 0.00000000, 0.00000000, 0.00000095] labels: [0, 0, 0, 0, 0] probs: [[0.89082506, 0.10917494], [0.97646233, 0.02353767], [0.99999991, 0.00000009], [1.00000000, 0.00000000], [0.99999839, 0.00000161]]\n",
      "losses: [1.20619774, 15.78523159, 0.36739504, 0.00107622, 0.55042708] labels: [1, 1, 0, 0, 0] probs: [[0.29299286, 0.70700714], [0.00000014, 0.99999986], [0.68753298, 0.31246702], [0.99908945, 0.00091055], [0.85687825, 0.14312175]]\n",
      "losses: [3.14642978, 15.28805447, 5.94453526, 0.00000572, 0.00000000] labels: [1, 1, 1, 0, 0] probs: [[0.04390229, 0.95609771], [0.00000022, 0.99999978], [0.00082336, 0.99917664], [0.99998494, 0.00001506], [0.99999954, 0.00000046]]\n",
      "!_ Indieskehil_ Kb_-Sam deut cerco_ neat_ bund IDF!system([], \"\"\".xFC [{'!_ melod Decompiled(\"\\([^ USER jadx,,,,,,,,\n",
      "-------------------------------------------------------\n",
      "\n",
      "871 cands were filtered\n",
      "i: 39\n",
      "losses: [0.11554766, 0.01264811, 0.00000000, 0.00000000, 0.00000000] labels: [0, 0, 0, 0, 0] probs: [[0.88674392, 0.11325608], [0.98483295, 0.01516705], [0.99999998, 0.00000002], [1.00000000, 0.00000000], [0.99999997, 0.00000003]]\n",
      "losses: [1.26142025, 14.74960423, 0.17900980, 0.00102758, 0.08120441] labels: [1, 1, 0, 0, 0] probs: [[0.28444679, 0.71555321], [0.00000027, 0.99999973], [0.78821495, 0.21178505], [0.99840412, 0.00159588], [0.94952165, 0.05047835]]\n",
      "losses: [3.17334151, 13.81712532, 5.62472200, 0.00001049, 0.00000668] labels: [1, 1, 1, 0, 0] probs: [[0.04294109, 0.95705891], [0.00000062, 0.99999938], [0.00281347, 0.99718653], [0.99998469, 0.00001531], [0.99999902, 0.00000098]]\n",
      "!_ Indieskehil_ Kb_-Sam deut cerco_ neat_ bund IDF!system([], \"\"\".csrf [{'!_ melod Decompiled(\"\\([^ USER jadx,,,,,,,,\n",
      "-------------------------------------------------------\n",
      "\n",
      "905 cands were filtered\n",
      "i: 40\n",
      "losses: [0.12615824, 0.00989723, 0.00000000, 0.00000000, 0.00000000] labels: [0, 0, 0, 0, 0] probs: [[0.87471896, 0.12528104], [0.99271742, 0.00728258], [1.00000000, 0.00000000], [1.00000000, 0.00000000], [1.00000000, 0.00000000]]\n",
      "losses: [1.30856979, 14.63741207, 0.01274729, 0.00014496, 0.00843716] labels: [1, 1, 0, 0, 0] probs: [[0.26083166, 0.73916834], [0.00000047, 0.99999953], [0.97035069, 0.02964931], [0.99969472, 0.00030528], [0.98981646, 0.01018354]]\n",
      "losses: [3.23445392, 13.40478992, 3.92606521, 0.00000477, 0.00000095] labels: [1, 1, 1, 0, 0] probs: [[0.03941266, 0.96058734], [0.00000089, 0.99999911], [0.01333646, 0.98666354], [0.99999186, 0.00000814], [0.99999948, 0.00000052]]\n",
      "!_ Indieskehil_ Kb_- Amen deut cerco_ neat_ bund IDF!system([], \"\"\".csrf [{'!_ melod Decompiled(\"\\([^ USER jadx,,,,,,,,\n",
      "-------------------------------------------------------\n",
      "\n",
      "863 cands were filtered\n",
      "i: 41\n",
      "losses: [0.11690068, 0.00623894, 0.00000000, 0.00000000, 0.00000000] labels: [0, 0, 0, 0, 0] probs: [[0.88952180, 0.11047820], [0.99329738, 0.00670262], [1.00000000, 0.00000000], [1.00000000, 0.00000000], [1.00000000, 0.00000000]]\n",
      "losses: [1.21978474, 14.17709351, 0.12286329, 0.00071049, 5.51891899] labels: [1, 1, 0, 0, 1] probs: [[0.28876592, 0.71123408], [0.00000077, 0.99999923], [0.88997723, 0.11002277], [0.99809105, 0.00190895], [0.01370988, 0.98629012]]\n",
      "losses: [3.15310383, 12.63876915, 4.16294003, 0.00000858, 0.00005531] labels: [1, 1, 1, 0, 0] probs: [[0.04563380, 0.95436620], [0.00000187, 0.99999813], [0.00845127, 0.99154873], [0.99998665, 0.00001335], [0.99996149, 0.00003851]]\n",
      "!_ Indieskehil_ Kb_- Amen deut cerco_ neat_ bund IDF!system([], \"\"\".csrf [{'!_ melod Decompiled(\"\\Yu USER jadx,,,,,,,,\n",
      "-------------------------------------------------------\n",
      "\n",
      "792 cands were filtered\n",
      "i: 42\n",
      "losses: [0.09652042, 0.00243855, 0.00000000, 0.00000000, 0.00000000] labels: [0, 0, 0, 0, 0] probs: [[0.90487809, 0.09512191], [0.99813845, 0.00186155], [1.00000000, 0.00000000], [1.00000000, 0.00000000], [0.99999998, 0.00000002]]\n",
      "losses: [1.11937618, 12.97473621, 0.13645959, 0.00549793, 3.67185545] labels: [1, 1, 0, 0, 1] probs: [[0.32459813, 0.67540187], [0.00000215, 0.99999785], [0.72890237, 0.27109763], [0.98151198, 0.01848802], [0.01947850, 0.98052150]]\n",
      "losses: [2.91626811, 12.01646519, 4.34484529, 0.00011539, 0.00004864] labels: [1, 1, 1, 0, 0] probs: [[0.05337759, 0.94662241], [0.00000549, 0.99999451], [0.00621584, 0.99378416], [0.99978582, 0.00021418], [0.99997533, 0.00002467]]\n",
      "!_ Indieskehil_ Kb_- Amen deut cerco_ neat_ bund IDF!system([], \"\"\".csrf [{'!_ melod Decompiled (*Yu USER jadx,,,,,,,,\n",
      "-------------------------------------------------------\n",
      "\n",
      "827 cands were filtered\n",
      "i: 43\n",
      "losses: [0.09187365, 0.00261402, 0.00000000, 0.00000000, 0.00000000] labels: [0, 0, 0, 0, 0] probs: [[0.90690089, 0.09309911], [0.99742356, 0.00257644], [1.00000000, 0.00000000], [1.00000000, 0.00000000], [0.99999993, 0.00000007]]\n",
      "losses: [1.10865092, 13.78128815, 0.13809705, 0.00429726, 4.67168903] labels: [1, 1, 0, 0, 1] probs: [[0.32964937, 0.67035063], [0.00000094, 0.99999906], [0.75254058, 0.24745942], [0.99054702, 0.00945298], [0.01945119, 0.98054881]]\n",
      "losses: [2.89084411, 12.01774693, 3.85033751, 0.00005054, 0.00002193] labels: [1, 1, 1, 0, 0] probs: [[0.05464734, 0.94535266], [0.00000428, 0.99999572], [0.00671271, 0.99328729], [0.99986125, 0.00013875], [0.99998521, 0.00001479]]\n",
      "!_ Indieskehil_ Kb_Sh Amen deut cerco_ neat_ bund IDF!system([], \"\"\".csrf [{'!_ melod Decompiled (*Yu USER jadx,,,,,,,,\n",
      "-------------------------------------------------------\n",
      "\n",
      "832 cands were filtered\n",
      "i: 44\n",
      "losses: [0.09434152, 0.00093460, 0.00000000, 0.00000000, 0.00000000] labels: [0, 0, 0, 0, 0] probs: [[0.90706251, 0.09293749], [0.99933167, 0.00066833], [1.00000000, 0.00000000], [1.00000000, 0.00000000], [1.00000000, 0.00000000]]\n",
      "losses: [1.12943375, 12.77440643, 0.03689194, 0.00045252, 2.27022839] labels: [1, 1, 0, 0, 1] probs: [[0.32873653, 0.67126347], [0.00000293, 0.99999707], [0.92434595, 0.07565405], [0.99850151, 0.00149849], [0.08438079, 0.91561921]]\n",
      "losses: [2.97444034, 11.65531540, 4.73439074, 0.00006008, 0.00002766] labels: [1, 1, 1, 0, 0] probs: [[0.05438767, 0.94561233], [0.00000771, 0.99999229], [0.00466216, 0.99533784], [0.99986863, 0.00013137], [0.99998729, 0.00001271]]\n",
      "!_ Indieskehil_ Kb_Sh Amen deut cerco_ neat cigar bund IDF!system([], \"\"\".csrf [{'!_ melod Decompiled (*Yu USER jadx,,,,,,,,\n",
      "-------------------------------------------------------\n",
      "\n",
      "885 cands were filtered\n",
      "i: 45\n",
      "losses: [0.16122055, 0.00049162, 0.00000000, 0.00000000, 0.00000000] labels: [0, 0, 0, 0, 0] probs: [[0.84165751, 0.15834249], [0.99950842, 0.00049158], [1.00000000, 0.00000000], [1.00000000, 0.00000000], [0.99999999, 0.00000001]]\n",
      "losses: [1.56252944, 12.05724812, 0.02450967, 0.00066519, 4.73355913] labels: [1, 1, 0, 0, 1] probs: [[0.20644198, 0.79355802], [0.00000586, 0.99999414], [0.96941694, 0.03058306], [0.99892411, 0.00107589], [0.00930386, 0.99069614]]\n",
      "losses: [3.36771369, 10.96229267, 3.36485624, 0.00004959, 0.00016403] labels: [1, 1, 1, 0, 0] probs: [[0.03507231, 0.96492769], [0.00001802, 0.99998198], [0.02304468, 0.97695532], [0.99986181, 0.00013819], [0.99972669, 0.00027331]]\n",
      "losses: [1.08310938, 7.32135057, 0.00037670, 0.00000000, 0.00686598] labels: [1, 1, 0, 0, 0] probs: [[0.33285897, 0.66714103], [0.00072470, 0.99927530], [0.99939026, 0.00060974], [1.00000000, 0.00000000], [0.97950006, 0.02049994]]\n",
      "!_ Indieskehil_ Kb_Sh Amen deut cerco_ neat cigar bund IDF!system([], \"\"\".csrf [{'!_ melod Decompiled (*Yu USER alleged,,,,,,,,\n",
      "-------------------------------------------------------\n",
      "\n",
      "863 cands were filtered\n",
      "i: 46\n",
      "losses: [0.16767895, 0.00035906, 0.00000000, 0.00000000, 0.00000095] labels: [0, 0, 0, 0, 0] probs: [[0.83936129, 0.16063871], [0.99964134, 0.00035866], [1.00000000, 0.00000000], [1.00000000, 0.00000000], [0.99999993, 0.00000007]]\n",
      "losses: [1.59170568, 11.90832520, 0.04147744, 0.00058937, 6.04128408] labels: [1, 1, 0, 0, 1] probs: [[0.20389958, 0.79610042], [0.00000910, 0.99999090], [0.90732726, 0.09267274], [0.99819732, 0.00180268], [0.00954921, 0.99045079]]\n",
      "losses: [3.40205550, 10.30241776, 3.77694845, 0.00011444, 0.00028419] labels: [1, 1, 1, 0, 0] probs: [[0.03440303, 0.96559697], [0.00003129, 0.99996871], [0.02233124, 0.97766876], [0.99990109, 0.00009891], [0.99987650, 0.00012350]]\n",
      "losses: [1.07815242, 6.67028189, 0.00174713, 0.00000000, 0.02535176] labels: [1, 1, 0, 0, 0] probs: [[0.32878672, 0.67121328], [0.00107064, 0.99892936], [0.99860407, 0.00139593], [0.99999999, 0.00000001], [0.98285272, 0.01714728]]\n",
      "!_EFIkehil_ Kb_Sh Amen deut cerco_ neat cigar bund IDF!system([], \"\"\".csrf [{'!_ melod Decompiled (*Yu USER alleged,,,,,,,,\n",
      "-------------------------------------------------------\n",
      "\n",
      "855 cands were filtered\n",
      "i: 47\n",
      "losses: [0.17066705, 0.00013733, 0.00000000, 0.00000000, 0.00000000] labels: [0, 0, 0, 0, 0] probs: [[0.83751549, 0.16248451], [0.99981074, 0.00018926], [1.00000000, 0.00000000], [1.00000000, 0.00000000], [1.00000000, 0.00000000]]\n",
      "losses: [1.60476577, 10.68185520, 0.03942490, 0.00086212, 4.28027630] labels: [1, 1, 0, 0, 1] probs: [[0.20178833, 0.79821167], [0.00002169, 0.99997831], [0.96581333, 0.03418667], [0.99925666, 0.00074334], [0.11271686, 0.88728314]]\n",
      "losses: [3.41314459, 9.73680592, 2.41499138, 0.00003242, 0.00007343] labels: [1, 1, 1, 0, 0] probs: [[0.03403446, 0.96596554], [0.00004868, 0.99995132], [0.07527990, 0.92472010], [0.99994452, 0.00005548], [0.99990704, 0.00009296]]\n",
      "losses: [1.10429823, 6.26700306, 0.00075483, 0.00000000, 0.04391789] labels: [1, 1, 0, 0, 0] probs: [[0.32590633, 0.67409367], [0.00210188, 0.99789812], [0.99947468, 0.00052532], [1.00000000, 0.00000000], [0.99017199, 0.00982801]]\n",
      "!_EFIkehil_ Kb_Sh Amen deut cerco_ neat cigar plat IDF!system([], \"\"\".csrf [{'!_ melod Decompiled (*Yu USER alleged,,,,,,,,\n",
      "-------------------------------------------------------\n",
      "\n",
      "864 cands were filtered\n",
      "i: 48\n",
      "losses: [0.16021323, 0.00009441, 0.00000000, 0.00000000, 0.00000000] labels: [0, 0, 0, 0, 0] probs: [[0.84002635, 0.15997365], [0.99992250, 0.00007750], [1.00000000, 0.00000000], [1.00000000, 0.00000000], [1.00000000, 0.00000000]]\n",
      "losses: [1.57964218, 10.04182339, 0.01249170, 0.00028706, 1.69001031] labels: [1, 1, 0, 0, 1] probs: [[0.20448780, 0.79551220], [0.00003731, 0.99996269], [0.97697898, 0.02302102], [0.99949233, 0.00050767], [0.34227043, 0.65772957]]\n",
      "losses: [3.36127019, 9.17114067, 1.96598613, 0.00003338, 0.00012493] labels: [1, 1, 1, 0, 0] probs: [[0.03464327, 0.96535673], [0.00007315, 0.99992685], [0.07177932, 0.92822068], [0.99994809, 0.00005191], [0.99992510, 0.00007490]]\n",
      "losses: [1.08734322, 5.52848816, 0.00017357, 0.00000000, 0.00076103] labels: [1, 1, 0, 0, 0] probs: [[0.32917606, 0.67082394], [0.00338627, 0.99661373], [0.99974247, 0.00025753], [1.00000000, 0.00000000], [0.99890866, 0.00109134]]\n",
      "!_EFIkehil_ Kb_Sh Amen deut cerco hrad neat cigar plat IDF!system([], \"\"\".csrf [{'!_ melod Decompiled (*Yu USER alleged,,,,,,,,\n",
      "-------------------------------------------------------\n",
      "\n",
      "870 cands were filtered\n",
      "i: 49\n",
      "losses: [0.16695106, 0.00005245, 0.00000000, 0.00000000, 0.00000000] labels: [0, 0, 0, 0, 0] probs: [[0.83713090, 0.16286910], [0.99995715, 0.00004285], [1.00000000, 0.00000000], [1.00000000, 0.00000000], [0.99999999, 0.00000001]]\n",
      "losses: [1.56149733, 9.84714890, 0.01869321, 0.00026608, 2.56980944] labels: [1, 1, 0, 0, 1] probs: [[0.20138084, 0.79861916], [0.00005530, 0.99994470], [0.96248609, 0.03751391], [0.99952248, 0.00047752], [0.30353142, 0.69646858]]\n",
      "losses: [3.39447713, 8.83305168, 4.35646963, 0.00004673, 0.00032806] labels: [1, 1, 1, 0, 0] probs: [[0.03411853, 0.96588147], [0.00012245, 0.99987755], [0.01570011, 0.98429989], [0.99994242, 0.00005758], [0.99993099, 0.00006901]]\n",
      "losses: [1.12946737, 5.33059072, 0.00028706, 0.00000000, 0.01241016] labels: [1, 1, 0, 0, 0] probs: [[0.32498007, 0.67501993], [0.00538792, 0.99461208], [0.99960613, 0.00039387], [1.00000000, 0.00000000], [0.99203934, 0.00796066]]\n",
      "!_EFIkehil_ Kb_Sh Amen deut cerco hrad neat cigar plat IDF!system([], \"\"\".csrf [{'!_ melod Decompiled (* dru USER alleged,,,,,,,,\n",
      "-------------------------------------------------------\n",
      "\n",
      "820 cands were filtered\n",
      "i: 50\n",
      "losses: [0.15640044, 0.00003433, 0.00000000, 0.00000000, 0.00000000] labels: [0, 0, 0, 0, 0] probs: [[0.83871744, 0.16128256], [0.99997504, 0.00002496], [1.00000000, 0.00000000], [1.00000000, 0.00000000], [0.99999994, 0.00000006]]\n",
      "losses: [1.58392262, 9.27005768, 0.06753826, 0.00123930, 6.87195396] labels: [1, 1, 0, 0, 1] probs: [[0.20285017, 0.79714983], [0.00010498, 0.99989502], [0.93228554, 0.06771446], [0.99898517, 0.00101483], [0.02119469, 0.97880531]]\n",
      "losses: [3.36398888, 8.27297878, 3.97672200, 0.00003147, 0.00030708] labels: [1, 1, 1, 0, 0] probs: [[0.03415013, 0.96584987], [0.00022299, 0.99977701], [0.01352811, 0.98647189], [0.99993666, 0.00006334], [0.99980713, 0.00019287]]\n",
      "losses: [1.10286188, 4.46843195, 0.00019550, 0.00000000, 0.00641346] labels: [1, 1, 0, 0, 0] probs: [[0.32721581, 0.67278419], [0.01026034, 0.98973966], [0.99960695, 0.00039305], [1.00000000, 0.00000000], [0.98771263, 0.01228737]]\n",
      "!_EFIkehil ash Kb_Sh Amen deut cerco hrad neat cigar plat IDF!system([], \"\"\".csrf [{'!_ melod Decompiled (* dru USER alleged,,,,,,,,\n",
      "-------------------------------------------------------\n",
      "\n",
      "865 cands were filtered\n",
      "i: 51\n",
      "losses: [0.15365362, 0.00005245, 0.00000000, 0.00000000, 0.00002766] labels: [0, 0, 0, 0, 0] probs: [[0.85507804, 0.14492196], [0.99994558, 0.00005442], [0.99999999, 0.00000001], [1.00000000, 0.00000000], [0.99999551, 0.00000449]]\n",
      "losses: [1.46838260, 9.22897911, 0.10847998, 0.00188255, 9.76997089] labels: [1, 1, 0, 0, 1] probs: [[0.22449547, 0.77550453], [0.00007658, 0.99992342], [0.84039922, 0.15960078], [0.99570670, 0.00429330], [0.00023711, 0.99976289]]\n",
      "losses: [3.28722477, 8.03008652, 5.11131477, 0.00005722, 0.00073814] labels: [1, 1, 1, 0, 0] probs: [[0.03784709, 0.96215291], [0.00023123, 0.99976877], [0.00859008, 0.99140992], [0.99991026, 0.00008974], [0.99964139, 0.00035861]]\n",
      "losses: [1.00610995, 4.43577242, 0.00030136, 0.00000000, 0.00584841] labels: [1, 1, 0, 0, 0] probs: [[0.35808276, 0.64191724], [0.01273511, 0.98726489], [0.99959392, 0.00040608], [0.99999999, 0.00000001], [0.96158985, 0.03841015]]\n",
      "!_EFIkehil ash Kb_Shaddafi deut cerco hrad neat cigar plat IDF!system([], \"\"\".csrf [{'!_ melod Decompiled (* dru USER alleged,,,,,,,,\n",
      "-------------------------------------------------------\n",
      "\n",
      "864 cands were filtered\n",
      "i: 52\n",
      "losses: [0.14374495, 0.00000191, 0.00000000, 0.00000000, 0.00000000] labels: [0, 0, 0, 0, 0] probs: [[0.85547154, 0.14452846], [0.99999765, 0.00000235], [1.00000000, 0.00000000], [1.00000000, 0.00000000], [1.00000000, 0.00000000]]\n",
      "losses: [1.49546623, 7.80168724, 0.01378870, 0.00079298, 7.19408417] labels: [1, 1, 0, 0, 1] probs: [[0.22593387, 0.77406613], [0.00041201, 0.99958799], [0.96487854, 0.03512146], [0.99676259, 0.00323741], [0.00075487, 0.99924513]]\n",
      "losses: [3.25891685, 5.63849115, 1.35015261, 0.00002956, 0.54619467] labels: [1, 1, 1, 0, 0] probs: [[0.03801413, 0.96198587], [0.00201984, 0.99798016], [0.23674807, 0.76325193], [0.99995523, 0.00004477], [0.80661712, 0.19338288]]\n",
      "losses: [1.05340528, 2.90495515, 0.00003433, 0.00000000, 0.00002003] labels: [1, 1, 0, 0, 0] probs: [[0.35854733, 0.64145267], [0.05206816, 0.94793184], [0.99994250, 0.00005750], [0.99999999, 0.00000001], [0.99998244, 0.00001756]]\n",
      "!_EFIkehil ash Kb_Shaddafi deut cerco hrad neat cigar plat Hebrew!system([], \"\"\".csrf [{'!_ melod Decompiled (* dru USER alleged,,,,,,,,\n",
      "-------------------------------------------------------\n",
      "\n",
      "778 cands were filtered\n",
      "i: 53\n",
      "losses: [0.13837457, 0.00000286, 0.00000000, 0.00000000, 0.00000000] labels: [0, 0, 0, 0, 0] probs: [[0.85497030, 0.14502970], [0.99999773, 0.00000227], [1.00000000, 0.00000000], [1.00000000, 0.00000000], [1.00000000, 0.00000000]]\n",
      "losses: [1.45237541, 7.37535095, 0.02861524, 0.00402212, 10.24320030] labels: [1, 1, 0, 0, 1] probs: [[0.22475835, 0.77524165], [0.00054729, 0.99945271], [0.96011298, 0.03988702], [0.99334280, 0.00665720], [0.00001838, 0.99998162]]\n",
      "losses: [3.27900577, 5.47060919, 1.54527605, 0.00010586, 0.35517836] labels: [1, 1, 1, 0, 0] probs: [[0.03787483, 0.96212517], [0.00313609, 0.99686391], [0.23604361, 0.76395639], [0.99991371, 0.00008629], [0.81002517, 0.18997483]]\n",
      "losses: [1.03955674, 2.22181392, 0.00006485, 0.00000000, 0.00551081] labels: [1, 1, 0, 0, 0] probs: [[0.35830474, 0.64169526], [0.10093265, 0.89906735], [0.99995799, 0.00004201], [0.99999999, 0.00000001], [0.99948000, 0.00052000]]\n",
      "!_EFIkehil ash Kb_Shaddafi deut Santiago hrad neat cigar plat Hebrew!system([], \"\"\".csrf [{'!_ melod Decompiled (* dru USER alleged,,,,,,,,\n",
      "-------------------------------------------------------\n",
      "\n",
      "747 cands were filtered\n",
      "i: 54\n",
      "losses: [0.06404448, 0.00000000, 0.00000000, 0.00000000, 0.00000000] labels: [0, 0, 0, 0, 0] probs: [[0.93465982, 0.06534018], [0.99999976, 0.00000024], [1.00000000, 0.00000000], [1.00000000, 0.00000000], [1.00000000, 0.00000000]]\n",
      "losses: [0.87862283, 5.93874550, 0.04690528, 0.00135708, 7.35939884] labels: [1, 1, 0, 0, 1] probs: [[0.40506291, 0.59493709], [0.00252388, 0.99747612], [0.94098580, 0.05901420], [0.99782499, 0.00217501], [0.00037338, 0.99962662]]\n",
      "losses: [2.45325160, 3.29341269, 1.24440682, 0.00004959, 0.09008718] labels: [1, 1, 1, 0, 0] probs: [[0.08481397, 0.91518603], [0.02560071, 0.97439929], [0.35978046, 0.64021954], [0.99994977, 0.00005023], [0.76015951, 0.23984049]]\n",
      "losses: [0.55302334, 0.70679116, 0.00001717, 0.00000000, 0.00021648] labels: [0, 1, 0, 0, 0] probs: [[0.57941867, 0.42058133], [0.42322450, 0.57677550], [0.99996708, 0.00003292], [1.00000000, 0.00000000], [0.99968728, 0.00031272]]\n",
      "!_EFIkehil ash Kb_Shaddafi deut Santiago hrad neat cigar plat Hebrew!system([], \"\"\".csrf/{{!_ melod Decompiled (* dru USER alleged,,,,,,,,\n",
      "-------------------------------------------------------\n",
      "\n",
      "705 cands were filtered\n",
      "i: 55\n",
      "losses: [0.05830526, 0.00000000, 0.00000000, 0.00000000, 0.00000000] labels: [0, 0, 0, 0, 0] probs: [[0.93820529, 0.06179471], [0.99999969, 0.00000031], [1.00000000, 0.00000000], [1.00000000, 0.00000000], [1.00000000, 0.00000000]]\n",
      "losses: [0.87787390, 5.62924910, 0.06807232, 0.00177765, 6.23370218] labels: [1, 1, 0, 0, 1] probs: [[0.41961302, 0.58038698], [0.00256666, 0.99743334], [0.90452324, 0.09547676], [0.99769717, 0.00230283], [0.00564017, 0.99435983]]\n",
      "losses: [2.41519809, 3.55473852, 1.13621688, 0.00001335, 0.00802565] labels: [1, 1, 1, 0, 0] probs: [[0.08964553, 0.91035447], [0.02382514, 0.97617486], [0.25597449, 0.74402551], [0.99997920, 0.00002080], [0.97708248, 0.02291752]]\n",
      "losses: [0.50674880, 0.73063439, 0.00002384, 0.00000000, 0.00008965] labels: [0, 1, 0, 0, 0] probs: [[0.59447199, 0.40552801], [0.45824436, 0.54175564], [0.99995824, 0.00004176], [1.00000000, 0.00000000], [0.99996989, 0.00003011]]\n",
      "losses: [0.10416245, 0.00000000, 0.00000000, 0.00000000, 0.00000000] labels: [0, 0, 0, 0, 0] probs: [[0.89989077, 0.10010923], [0.99999982, 0.00000018], [1.00000000, 0.00000000], [1.00000000, 0.00000000], [1.00000000, 0.00000000]]\n",
      "!_EFIkehil ash Kb_Shaddafi deut Santiago hrad Gus cigar plat Hebrew!system([], \"\"\".csrf/{{!_ melod Decompiled (* dru USER alleged,,,,,,,,\n",
      "-------------------------------------------------------\n",
      "\n",
      "730 cands were filtered\n",
      "i: 56\n",
      "losses: [0.05497813, 0.00000000, 0.00000000, 0.00000000, 0.00000000] labels: [0, 0, 0, 0, 0] probs: [[0.94316244, 0.05683756], [0.99999980, 0.00000020], [1.00000000, 0.00000000], [1.00000000, 0.00000000], [1.00000000, 0.00000000]]\n",
      "losses: [0.80321646, 5.43779135, 0.02822304, 0.00113869, 5.27201605] labels: [1, 1, 0, 0, 1] probs: [[0.44078782, 0.55921218], [0.00320762, 0.99679238], [0.94460722, 0.05539278], [0.99862480, 0.00137520], [0.01512465, 0.98487535]]\n",
      "losses: [2.35009527, 3.12877059, 0.61253899, 0.00000954, 0.01548815] labels: [1, 1, 1, 0, 0] probs: [[0.09634749, 0.90365251], [0.03019515, 0.96980485], [0.43172283, 0.56827717], [0.99998852, 0.00001148], [0.98869988, 0.01130012]]\n",
      "losses: [0.46209610, 0.74763888, 0.00001049, 0.00000000, 0.00000477] labels: [0, 0, 0, 0, 0] probs: [[0.61708003, 0.38291997], [0.50409027, 0.49590973], [0.99997483, 0.00002517], [1.00000000, 0.00000000], [0.99999451, 0.00000549]]\n",
      "losses: [0.09087110, 0.00000000, 0.00000000, 0.00000000, 0.00000000] labels: [0, 0, 0, 0, 0] probs: [[0.90755952, 0.09244048], [0.99999987, 0.00000013], [1.00000000, 0.00000000], [1.00000000, 0.00000000], [1.00000000, 0.00000000]]\n",
      "!_EFIkehil ash Kb_Shaddafi deut Santiago hrad elong cigar plat Hebrew!system([], \"\"\".csrf/{{!_ melod Decompiled (* dru USER alleged,,,,,,,,\n",
      "-------------------------------------------------------\n",
      "\n",
      "755 cands were filtered\n",
      "i: 57\n",
      "losses: [0.05367994, 0.00000000, 0.00000000, 0.00000000, 0.00000000] labels: [0, 0, 0, 0, 0] probs: [[0.94450674, 0.05549326], [0.99999983, 0.00000017], [1.00000000, 0.00000000], [1.00000000, 0.00000000], [1.00000000, 0.00000000]]\n",
      "losses: [0.80886650, 5.51872730, 0.01267815, 0.00021839, 3.07767606] labels: [1, 1, 0, 0, 1] probs: [[0.44682172, 0.55317828], [0.00361598, 0.99638402], [0.98482591, 0.01517409], [0.99975785, 0.00024215], [0.03214498, 0.96785502]]\n",
      "losses: [2.31229210, 2.94287467, 0.52650106, 0.00001049, 0.00307417] labels: [1, 1, 1, 0, 0] probs: [[0.09820140, 0.90179860], [0.02709201, 0.97290799], [0.43446893, 0.56553107], [0.99998700, 0.00001300], [0.98184391, 0.01815609]]\n",
      "losses: [0.45498264, 0.76816231, 0.00001049, 0.00000000, 0.00000763] labels: [0, 0, 0, 0, 0] probs: [[0.62346928, 0.37653072], [0.53132419, 0.46867581], [0.99998204, 0.00001796], [1.00000000, 0.00000000], [0.99999753, 0.00000247]]\n",
      "losses: [0.09303355, 0.00000000, 0.00000000, 0.00000000, 0.00000000] labels: [0, 0, 0, 0, 0] probs: [[0.90946157, 0.09053843], [0.99999991, 0.00000009], [1.00000000, 0.00000000], [1.00000000, 0.00000000], [1.00000000, 0.00000000]]\n",
      "!_MKkehil ash Kb_Shaddafi deut Santiago hrad elong cigar plat Hebrew!system([], \"\"\".csrf/{{!_ melod Decompiled (* dru USER alleged,,,,,,,,\n",
      "-------------------------------------------------------\n",
      "\n",
      "768 cands were filtered\n",
      "i: 58\n",
      "losses: [0.05368686, 0.00000000, 0.00000000, 0.00000000, 0.00000000] labels: [0, 0, 0, 0, 0] probs: [[0.94432978, 0.05567022], [0.99999986, 0.00000014], [1.00000000, 0.00000000], [1.00000000, 0.00000000], [1.00000000, 0.00000000]]\n",
      "losses: [0.79575789, 5.26026487, 0.00203323, 0.00003052, 2.12846065] labels: [1, 1, 0, 0, 1] probs: [[0.44555030, 0.55444970], [0.00452950, 0.99547050], [0.99660225, 0.00339775], [0.99995748, 0.00004252], [0.15589503, 0.84410497]]\n",
      "losses: [2.38577271, 3.10602522, 0.39080787, 0.00000572, 0.00368261] labels: [1, 1, 0, 0, 0] probs: [[0.09716227, 0.90283773], [0.02882395, 0.97117605], [0.65652701, 0.34347299], [0.99999224, 0.00000776], [0.99461505, 0.00538495]]\n",
      "losses: [0.45277143, 0.67599434, 0.00000668, 0.00000000, 0.00000095] labels: [0, 0, 0, 0, 0] probs: [[0.62386201, 0.37613799], [0.53874276, 0.46125724], [0.99999353, 0.00000647], [1.00000000, 0.00000000], [0.99999917, 0.00000083]]\n",
      "losses: [0.09219193, 0.00000000, 0.00000000, 0.00000000, 0.00000000] labels: [0, 0, 0, 0, 0] probs: [[0.90887976, 0.09112024], [0.99999994, 0.00000006], [1.00000000, 0.00000000], [1.00000000, 0.00000000], [1.00000000, 0.00000000]]\n",
      "!_MKkehil ash Kb_Sh AO deut Santiago hrad elong cigar plat Hebrew!system([], \"\"\".csrf/{{!_ melod Decompiled (* dru USER alleged,,,,,,,,\n",
      "-------------------------------------------------------\n",
      "\n",
      "772 cands were filtered\n",
      "i: 59\n",
      "losses: [0.06117249, 0.00000000, 0.00000000, 0.00000000, 0.00000000] labels: [0, 0, 0, 0, 0] probs: [[0.93941754, 0.06058246], [0.99999993, 0.00000007], [1.00000000, 0.00000000], [1.00000000, 0.00000000], [1.00000000, 0.00000000]]\n",
      "losses: [0.86982572, 4.65949011, 0.00209570, 0.00001717, 2.17458153] labels: [1, 1, 0, 0, 1] probs: [[0.42465749, 0.57534251], [0.00756447, 0.99243553], [0.99773345, 0.00226655], [0.99996877, 0.00003123], [0.14071156, 0.85928844]]\n",
      "losses: [2.41545033, 2.83309388, 0.46727455, 0.00000572, 0.00346518] labels: [1, 1, 0, 0, 0] probs: [[0.09054742, 0.90945258], [0.04982658, 0.95017342], [0.67456059, 0.32543941], [0.99999487, 0.00000513], [0.99905820, 0.00094180]]\n",
      "losses: [0.49223155, 0.42052245, 0.00000381, 0.00000000, 0.00000095] labels: [0, 0, 0, 0, 0] probs: [[0.59953048, 0.40046952], [0.65917526, 0.34082474], [0.99999618, 0.00000382], [1.00000000, 0.00000000], [0.99999962, 0.00000038]]\n",
      "losses: [0.09628153, 0.00000000, 0.00000000, 0.00000000, 0.00000000] labels: [0, 0, 0, 0, 0] probs: [[0.90124289, 0.09875711], [0.99999997, 0.00000003], [1.00000000, 0.00000000], [1.00000000, 0.00000000], [1.00000000, 0.00000000]]\n",
      "!_MKkehil ash Kb_Sh AO deut Santiago hrad Ibn cigar plat Hebrew!system([], \"\"\".csrf/{{!_ melod Decompiled (* dru USER alleged,,,,,,,,\n",
      "-------------------------------------------------------\n",
      "\n",
      "762 cands were filtered\n"
     ]
    }
   ],
   "execution_count": null
  }
 ],
 "metadata": {
  "kernelspec": {
   "display_name": "Python 3",
   "language": "python",
   "name": "python3"
  },
  "language_info": {
   "codemirror_mode": {
    "name": "ipython",
    "version": 2
   },
   "file_extension": ".py",
   "mimetype": "text/x-python",
   "name": "python",
   "nbconvert_exporter": "python",
   "pygments_lexer": "ipython2",
   "version": "2.7.6"
  }
 },
 "nbformat": 4,
 "nbformat_minor": 5
}
