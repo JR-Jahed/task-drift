{
 "metadata": {
  "kernelspec": {
   "language": "python",
   "display_name": "Python 3",
   "name": "python3"
  },
  "language_info": {
   "name": "python",
   "version": "3.11.11",
   "mimetype": "text/x-python",
   "codemirror_mode": {
    "name": "ipython",
    "version": 3
   },
   "pygments_lexer": "ipython3",
   "nbconvert_exporter": "python",
   "file_extension": ".py"
  },
  "kaggle": {
   "accelerator": "nvidiaTeslaT4",
   "dataSources": [
    {
     "sourceId": 12510185,
     "sourceType": "datasetVersion",
     "datasetId": 7896173
    }
   ],
   "dockerImageVersionId": 31041,
   "isInternetEnabled": true,
   "language": "python",
   "sourceType": "notebook",
   "isGpuEnabled": true
  }
 },
 "nbformat_minor": 4,
 "nbformat": 4,
 "cells": [
  {
   "metadata": {},
   "cell_type": "markdown",
   "source": "### Let's try to find a suffix that works on many prompts in attacking the classifier of the last layer of Phi 3 model"
  },
  {
   "cell_type": "code",
   "source": [
    "import torch\n",
    "import torch.nn as nn\n",
    "import numpy as np\n",
    "import time\n",
    "import pickle\n",
    "from custom_model import CustomModel\n",
    "from opt_utils import get_nonascii_toks, token_gradients, sample_control, get_filtered_cands, get_logits, load_model_and_tokenizer, get_prompt, get_primary_activation\n",
    "from suffix_manager import SuffixManager\n",
    "import random\n",
    "\n",
    "np.set_printoptions(suppress=True, linewidth=10000)\n",
    "torch.set_printoptions(sci_mode=False, linewidth=100000, threshold=float('inf'))"
   ],
   "metadata": {
    "_uuid": "8f2839f25d086af736a60e9eeb907d3b93b6e0e5",
    "_cell_guid": "b1076dfc-b9ad-4769-8c92-a6c4dae69d19",
    "trusted": true,
    "execution": {
     "iopub.status.busy": "2025-07-20T19:33:08.087665Z",
     "iopub.execute_input": "2025-07-20T19:33:08.087850Z",
     "iopub.status.idle": "2025-07-20T19:33:26.620877Z",
     "shell.execute_reply.started": "2025-07-20T19:33:08.087833Z",
     "shell.execute_reply": "2025-07-20T19:33:26.620055Z"
    }
   },
   "outputs": [],
   "execution_count": null
  },
  {
   "metadata": {},
   "cell_type": "code",
   "source": "model_path = 'loaded_models/phi3'",
   "outputs": [],
   "execution_count": null
  },
  {
   "cell_type": "code",
   "source": [
    "adv_string_init = \"! ! ! ! ! ! ! ! ! ! ! ! ! ! ! ! ! ! ! !\"\n",
    "model_id = \"microsoft/Phi-3-mini-4k-instruct\"\n",
    "\n",
    "# Still using 2 A5000 24GB GPUs. So, let's keep it small\n",
    "prompt_indices = random.sample(range(1000), 5)\n",
    "\n",
    "num_steps = 300\n",
    "topk = 64\n",
    "batch_size = 64\n",
    "allow_non_ascii = False  # you can set this to True to use unicode tokens"
   ],
   "metadata": {
    "trusted": true,
    "execution": {
     "iopub.status.busy": "2025-07-20T19:33:26.621832Z",
     "iopub.execute_input": "2025-07-20T19:33:26.622262Z",
     "iopub.status.idle": "2025-07-20T19:33:26.626379Z",
     "shell.execute_reply.started": "2025-07-20T19:33:26.622228Z",
     "shell.execute_reply": "2025-07-20T19:33:26.625691Z"
    }
   },
   "outputs": [],
   "execution_count": null
  },
  {
   "metadata": {},
   "cell_type": "code",
   "source": "print(prompt_indices)",
   "outputs": [],
   "execution_count": null
  },
  {
   "metadata": {},
   "cell_type": "code",
   "source": "torch.cuda.empty_cache()",
   "outputs": [],
   "execution_count": null
  },
  {
   "cell_type": "code",
   "source": [
    "# Get the text from the test dataset\n",
    "texts = [get_prompt(prompt_indices[0])]"
   ],
   "metadata": {
    "trusted": true,
    "execution": {
     "iopub.status.busy": "2025-07-20T19:33:26.677368Z",
     "iopub.execute_input": "2025-07-20T19:33:26.678107Z",
     "iopub.status.idle": "2025-07-20T19:33:26.700064Z",
     "shell.execute_reply.started": "2025-07-20T19:33:26.678082Z",
     "shell.execute_reply": "2025-07-20T19:33:26.699410Z"
    }
   },
   "outputs": [],
   "execution_count": null
  },
  {
   "cell_type": "code",
   "source": "model, tokenizer = load_model_and_tokenizer(model_path)",
   "metadata": {
    "trusted": true,
    "execution": {
     "iopub.status.busy": "2025-07-20T19:33:26.700824Z",
     "iopub.execute_input": "2025-07-20T19:33:26.701035Z",
     "iopub.status.idle": "2025-07-20T19:34:44.179917Z",
     "shell.execute_reply.started": "2025-07-20T19:33:26.701018Z",
     "shell.execute_reply": "2025-07-20T19:34:44.179368Z"
    }
   },
   "outputs": [],
   "execution_count": null
  },
  {
   "metadata": {},
   "cell_type": "code",
   "source": "print(model.device)",
   "outputs": [],
   "execution_count": null
  },
  {
   "cell_type": "code",
   "source": "suffix_manager = SuffixManager(tokenizer, texts[0], adv_string_init)",
   "metadata": {
    "trusted": true,
    "execution": {
     "iopub.status.busy": "2025-07-20T19:34:44.180673Z",
     "iopub.execute_input": "2025-07-20T19:34:44.181263Z",
     "iopub.status.idle": "2025-07-20T19:34:44.184865Z",
     "shell.execute_reply.started": "2025-07-20T19:34:44.181200Z",
     "shell.execute_reply": "2025-07-20T19:34:44.184178Z"
    }
   },
   "outputs": [],
   "execution_count": null
  },
  {
   "metadata": {
    "trusted": true,
    "execution": {
     "iopub.status.busy": "2025-07-20T19:34:46.949159Z",
     "iopub.execute_input": "2025-07-20T19:34:46.949520Z",
     "iopub.status.idle": "2025-07-20T19:34:48.219522Z",
     "shell.execute_reply.started": "2025-07-20T19:34:46.949492Z",
     "shell.execute_reply": "2025-07-20T19:34:48.218703Z"
    }
   },
   "cell_type": "code",
   "source": [
    "linear_model = pickle.load(open('task_drift/trained_linear_probes_microsoft/phi3/31/model.pickle', 'rb'))\n",
    "\n",
    "custom_model = CustomModel(model, linear_model)\n",
    "device = custom_model.base_model.get_input_embeddings().weight.device"
   ],
   "outputs": [],
   "execution_count": null
  },
  {
   "metadata": {},
   "cell_type": "code",
   "source": "print(device)",
   "outputs": [],
   "execution_count": null
  },
  {
   "metadata": {
    "trusted": true,
    "execution": {
     "iopub.status.busy": "2025-07-20T19:41:28.395726Z",
     "iopub.execute_input": "2025-07-20T19:41:28.395989Z",
     "iopub.status.idle": "2025-07-20T19:41:28.474765Z",
     "shell.execute_reply.started": "2025-07-20T19:41:28.395968Z",
     "shell.execute_reply": "2025-07-20T19:41:28.473868Z"
    }
   },
   "cell_type": "code",
   "source": [
    "primary_activations = get_primary_activation(prompt_indices[0]).unsqueeze(0)\n",
    "primary_activations = primary_activations.to(device)"
   ],
   "outputs": [],
   "execution_count": null
  },
  {
   "metadata": {
    "trusted": true,
    "execution": {
     "iopub.status.busy": "2025-07-20T19:38:22.618850Z",
     "iopub.execute_input": "2025-07-20T19:38:22.619520Z",
     "iopub.status.idle": "2025-07-20T19:38:22.623666Z",
     "shell.execute_reply.started": "2025-07-20T19:38:22.619492Z",
     "shell.execute_reply": "2025-07-20T19:38:22.622837Z"
    }
   },
   "cell_type": "code",
   "source": [
    "target = torch.tensor([0], dtype=torch.float32)\n",
    "target = target.to(device)"
   ],
   "outputs": [],
   "execution_count": null
  },
  {
   "metadata": {
    "trusted": true,
    "execution": {
     "iopub.status.busy": "2025-07-20T19:53:22.591342Z",
     "iopub.execute_input": "2025-07-20T19:53:22.591639Z",
     "iopub.status.idle": "2025-07-20T19:53:22.597902Z",
     "shell.execute_reply.started": "2025-07-20T19:53:22.591617Z",
     "shell.execute_reply": "2025-07-20T19:53:22.596870Z"
    }
   },
   "cell_type": "code",
   "source": [
    "def check_misclassification(adv_suffix, suffix_manager, primary_activation):\n",
    "    device = custom_model.base_model.get_input_embeddings().weight.device\n",
    "    input_ids = suffix_manager.get_input_ids(adv_suffix).unsqueeze(0)\n",
    "    input_ids = input_ids.to(device)\n",
    "\n",
    "    attention_mask = torch.ones_like(input_ids).to(device)\n",
    "\n",
    "    outputs = model(input_ids=input_ids, attention_mask=attention_mask, output_hidden_states=True)\n",
    "    last_token_activation = outputs['hidden_states'][-1][0, -1].float()  # poisoned activation with suffix\n",
    "\n",
    "    poisoned_activation = last_token_activation\n",
    "\n",
    "    delta = (poisoned_activation - primary_activation).detach().cpu().float().numpy().reshape(1, -1)\n",
    "\n",
    "    label = int(linear_model.predict(delta)[0])\n",
    "    prob = linear_model.predict_proba(delta)[0]\n",
    "\n",
    "    return label, prob"
   ],
   "outputs": [],
   "execution_count": null
  },
  {
   "metadata": {},
   "cell_type": "code",
   "source": [
    "not_allowed_tokens = None if allow_non_ascii else get_nonascii_toks(tokenizer)\n",
    "adv_suffix = adv_string_init\n",
    "\n",
    "start_time = time.time()\n",
    "\n",
    "for i in range(num_steps + 1):\n",
    "\n",
    "    coordinate_grad = None\n",
    "    loss = None\n",
    "    input_ids = None\n",
    "    labels = []\n",
    "    probs = []\n",
    "\n",
    "    for text, primary_activation in zip(texts, primary_activations):\n",
    "\n",
    "        # Step 1. Encode user prompt (behavior + adv suffix) as tokens and return token ids.\n",
    "        suffix_manager = SuffixManager(tokenizer, text, adv_string_init)\n",
    "        input_ids = suffix_manager.get_input_ids(adv_suffix)\n",
    "        input_ids = input_ids.to(device)\n",
    "\n",
    "        # Step 2. Compute Coordinate Gradient\n",
    "        coordinate_grad_, loss_, outputs, one_hot = token_gradients(custom_model, input_ids, suffix_manager.adv_string_slice, target, primary_activation)\n",
    "\n",
    "        if coordinate_grad is None:\n",
    "            coordinate_grad = coordinate_grad_\n",
    "            loss = loss_\n",
    "        else:\n",
    "            coordinate_grad += coordinate_grad_\n",
    "            loss += loss_\n",
    "\n",
    "        label, prob = check_misclassification(adv_suffix, suffix_manager, primary_activation)\n",
    "        labels.append(label)\n",
    "        probs.append(prob)\n",
    "\n",
    "    print(f\"i: {i}  loss: {loss:.10f}   labels: {labels}   probs: {probs}\")\n",
    "    print(adv_suffix)\n",
    "    print(\"-------------------------------------------------------\\n\")\n",
    "\n",
    "    if i == num_steps:\n",
    "        break\n",
    "\n",
    "    # Step 3. Sample a batch of new tokens based on the coordinate gradient.\n",
    "    # Notice that we only need the one that minimizes the loss.\n",
    "    with torch.no_grad():\n",
    "\n",
    "        # Step 3.1 Slice the input to locate the adversarial suffix.\n",
    "        adv_suffix_tokens = input_ids[suffix_manager.adv_string_slice].to(device)\n",
    "\n",
    "        # Step 3.2 Randomly sample a batch of replacements.\n",
    "        # Encoded suffixes\n",
    "        new_adv_suffix_tokens = sample_control(\n",
    "            adv_suffix_tokens,\n",
    "            coordinate_grad,\n",
    "            batch_size,\n",
    "            topk=topk\n",
    "        )\n",
    "\n",
    "        # Step 3.3 This step ensures all adversarial candidates have the same number of tokens.\n",
    "        # Decoded suffixes\n",
    "        new_adv_suffix = get_filtered_cands(\n",
    "            tokenizer,\n",
    "            new_adv_suffix_tokens,\n",
    "            filter_cand=True,\n",
    "            curr_control=adv_suffix\n",
    "        )\n",
    "\n",
    "        losses = None\n",
    "\n",
    "        for primary_activation in primary_activations:\n",
    "            # Step 3.4 Compute loss on these candidates and take the argmin.\n",
    "            logits = get_logits(\n",
    "                custom_model=custom_model,\n",
    "                tokenizer=tokenizer,\n",
    "                input_ids=input_ids,\n",
    "                control_slice=suffix_manager.adv_string_slice,\n",
    "                primary_activation=primary_activation,\n",
    "                test_controls=new_adv_suffix,\n",
    "                return_ids=False,\n",
    "                batch_size=12 # decrease this number if you run into OOM.\n",
    "            )\n",
    "            target = target.to(logits.dtype)\n",
    "            expanded_target = target.expand_as(logits)\n",
    "\n",
    "            losses_ = nn.BCEWithLogitsLoss(reduction='none')(logits, expanded_target)\n",
    "\n",
    "            if losses is None:\n",
    "                losses = losses_\n",
    "            else:\n",
    "                losses += losses_\n",
    "\n",
    "        best_new_adv_suffix_id = losses.argmin()\n",
    "        best_new_adv_suffix = new_adv_suffix[best_new_adv_suffix_id]\n",
    "\n",
    "        adv_suffix = best_new_adv_suffix\n",
    "\n",
    "    if len(texts) < len(prompt_indices) and probs[-1][0] >= .8:\n",
    "        texts.append(get_prompt(prompt_indices[len(texts)]))\n",
    "        primary_activation = get_primary_activation(prompt_indices[len(primary_activations)]).unsqueeze(0).to(device)\n",
    "        primary_activations = torch.cat([primary_activations, primary_activation], dim=0)\n",
    "\n",
    "\n",
    "end_time = time.time()\n",
    "\n",
    "print(f\"Total time: {end_time - start_time} seconds\")"
   ],
   "outputs": [],
   "execution_count": null
  }
 ]
}
